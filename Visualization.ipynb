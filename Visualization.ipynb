{
 "cells": [
  {
   "cell_type": "code",
   "execution_count": 1,
   "metadata": {},
   "outputs": [],
   "source": [
    "import pandas as pd\n",
    "import matplotlib.pyplot as plt\n",
    "import warnings; warnings.simplefilter('ignore')"
   ]
  },
  {
   "cell_type": "code",
   "execution_count": 2,
   "metadata": {},
   "outputs": [
    {
     "data": {
      "text/html": [
       "<div>\n",
       "<style scoped>\n",
       "    .dataframe tbody tr th:only-of-type {\n",
       "        vertical-align: middle;\n",
       "    }\n",
       "\n",
       "    .dataframe tbody tr th {\n",
       "        vertical-align: top;\n",
       "    }\n",
       "\n",
       "    .dataframe thead th {\n",
       "        text-align: right;\n",
       "    }\n",
       "</style>\n",
       "<table border=\"1\" class=\"dataframe\">\n",
       "  <thead>\n",
       "    <tr style=\"text-align: right;\">\n",
       "      <th></th>\n",
       "      <th>Genre</th>\n",
       "      <th>Id</th>\n",
       "      <th>Popularity</th>\n",
       "      <th>Is_Exp</th>\n",
       "      <th>Name</th>\n",
       "      <th>Artist</th>\n",
       "      <th>Danceability</th>\n",
       "      <th>Energy</th>\n",
       "      <th>Key</th>\n",
       "      <th>Loudness</th>\n",
       "      <th>Mode</th>\n",
       "      <th>Speechiness</th>\n",
       "      <th>Acousticness</th>\n",
       "      <th>Instrumentalness</th>\n",
       "      <th>Liveness</th>\n",
       "      <th>Valence</th>\n",
       "      <th>Tempo</th>\n",
       "      <th>Time_Signature</th>\n",
       "    </tr>\n",
       "  </thead>\n",
       "  <tbody>\n",
       "    <tr>\n",
       "      <th>0</th>\n",
       "      <td>country</td>\n",
       "      <td>2rxQMGVafnNaRaXlRMWPde</td>\n",
       "      <td>83</td>\n",
       "      <td>False</td>\n",
       "      <td>Beautiful Crazy</td>\n",
       "      <td>Luke Combs</td>\n",
       "      <td>0.552</td>\n",
       "      <td>0.402</td>\n",
       "      <td>11</td>\n",
       "      <td>-7.431</td>\n",
       "      <td>1</td>\n",
       "      <td>0.0262</td>\n",
       "      <td>0.67600</td>\n",
       "      <td>0.000000</td>\n",
       "      <td>0.0928</td>\n",
       "      <td>0.382</td>\n",
       "      <td>103.313</td>\n",
       "      <td>4</td>\n",
       "    </tr>\n",
       "    <tr>\n",
       "      <th>1</th>\n",
       "      <td>country</td>\n",
       "      <td>3L5cSHbf7oBWubuCwJbUGt</td>\n",
       "      <td>73</td>\n",
       "      <td>False</td>\n",
       "      <td>Nothing To Do Town</td>\n",
       "      <td>Dylan Scott</td>\n",
       "      <td>0.551</td>\n",
       "      <td>0.836</td>\n",
       "      <td>2</td>\n",
       "      <td>-5.182</td>\n",
       "      <td>1</td>\n",
       "      <td>0.0338</td>\n",
       "      <td>0.02490</td>\n",
       "      <td>0.000013</td>\n",
       "      <td>0.2220</td>\n",
       "      <td>0.911</td>\n",
       "      <td>147.954</td>\n",
       "      <td>4</td>\n",
       "    </tr>\n",
       "    <tr>\n",
       "      <th>2</th>\n",
       "      <td>country</td>\n",
       "      <td>6ERR6e7h6wCqGoz1TjiUJb</td>\n",
       "      <td>70</td>\n",
       "      <td>False</td>\n",
       "      <td>Knockin' Boots</td>\n",
       "      <td>Luke Bryan</td>\n",
       "      <td>0.739</td>\n",
       "      <td>0.682</td>\n",
       "      <td>2</td>\n",
       "      <td>-3.728</td>\n",
       "      <td>1</td>\n",
       "      <td>0.2050</td>\n",
       "      <td>0.12900</td>\n",
       "      <td>0.000000</td>\n",
       "      <td>0.3280</td>\n",
       "      <td>0.634</td>\n",
       "      <td>131.983</td>\n",
       "      <td>4</td>\n",
       "    </tr>\n",
       "    <tr>\n",
       "      <th>3</th>\n",
       "      <td>country</td>\n",
       "      <td>0QFvybNsiwupz72jpQWxKn</td>\n",
       "      <td>67</td>\n",
       "      <td>False</td>\n",
       "      <td>That's How You Got It</td>\n",
       "      <td>John Gurney</td>\n",
       "      <td>0.673</td>\n",
       "      <td>0.683</td>\n",
       "      <td>4</td>\n",
       "      <td>-4.224</td>\n",
       "      <td>1</td>\n",
       "      <td>0.0321</td>\n",
       "      <td>0.00181</td>\n",
       "      <td>0.000011</td>\n",
       "      <td>0.0990</td>\n",
       "      <td>0.824</td>\n",
       "      <td>89.984</td>\n",
       "      <td>4</td>\n",
       "    </tr>\n",
       "    <tr>\n",
       "      <th>4</th>\n",
       "      <td>country</td>\n",
       "      <td>7C6JnGZRj0HMIF06rlz9Mb</td>\n",
       "      <td>75</td>\n",
       "      <td>False</td>\n",
       "      <td>Make It Sweet</td>\n",
       "      <td>Old Dominion</td>\n",
       "      <td>0.539</td>\n",
       "      <td>0.859</td>\n",
       "      <td>7</td>\n",
       "      <td>-4.465</td>\n",
       "      <td>1</td>\n",
       "      <td>0.0399</td>\n",
       "      <td>0.03170</td>\n",
       "      <td>0.000000</td>\n",
       "      <td>0.1020</td>\n",
       "      <td>0.456</td>\n",
       "      <td>89.937</td>\n",
       "      <td>4</td>\n",
       "    </tr>\n",
       "  </tbody>\n",
       "</table>\n",
       "</div>"
      ],
      "text/plain": [
       "     Genre                      Id  Popularity  Is_Exp                   Name  \\\n",
       "0  country  2rxQMGVafnNaRaXlRMWPde          83   False        Beautiful Crazy   \n",
       "1  country  3L5cSHbf7oBWubuCwJbUGt          73   False     Nothing To Do Town   \n",
       "2  country  6ERR6e7h6wCqGoz1TjiUJb          70   False         Knockin' Boots   \n",
       "3  country  0QFvybNsiwupz72jpQWxKn          67   False  That's How You Got It   \n",
       "4  country  7C6JnGZRj0HMIF06rlz9Mb          75   False          Make It Sweet   \n",
       "\n",
       "         Artist  Danceability  Energy  Key  Loudness  Mode  Speechiness  \\\n",
       "0    Luke Combs         0.552   0.402   11    -7.431     1       0.0262   \n",
       "1   Dylan Scott         0.551   0.836    2    -5.182     1       0.0338   \n",
       "2    Luke Bryan         0.739   0.682    2    -3.728     1       0.2050   \n",
       "3   John Gurney         0.673   0.683    4    -4.224     1       0.0321   \n",
       "4  Old Dominion         0.539   0.859    7    -4.465     1       0.0399   \n",
       "\n",
       "   Acousticness  Instrumentalness  Liveness  Valence    Tempo  Time_Signature  \n",
       "0       0.67600          0.000000    0.0928    0.382  103.313               4  \n",
       "1       0.02490          0.000013    0.2220    0.911  147.954               4  \n",
       "2       0.12900          0.000000    0.3280    0.634  131.983               4  \n",
       "3       0.00181          0.000011    0.0990    0.824   89.984               4  \n",
       "4       0.03170          0.000000    0.1020    0.456   89.937               4  "
      ]
     },
     "execution_count": 2,
     "metadata": {},
     "output_type": "execute_result"
    }
   ],
   "source": [
    "df = pd.read_csv(\"final.csv\")\n",
    "df = df.drop(columns=\"Unnamed: 0\")\n",
    "df = df[((df[\"Genre\"] == \"pop\") | (df[\"Genre\"] ==  \"country\"))]\n",
    "genres = df[\"Genre\"].unique()\n",
    "unique_colors = [\n",
    "    '#e6194b', '#3cb44b', '#ffe119', '#4363d8', '#f58231', '#911eb4', '#46f0f0', '#f032e6', '#bcf60c', '#fabebe', '#008080', '#e6beff', '#9a6324', '#fffac8', '#800000', '#aaffc3', '#808000', '#ffd8b1', '#000075', '#808080'\n",
    "]\n",
    "colors = {}\n",
    "i = 0\n",
    "for genre in genres:\n",
    "    colors[genre] = unique_colors[i]\n",
    "    i+=1\n",
    "colors_list = [colors[genre] for genre in genres]\n",
    "df.head()"
   ]
  },
  {
   "cell_type": "code",
   "execution_count": 3,
   "metadata": {},
   "outputs": [],
   "source": [
    "x_cols    = [\"Is_Exp\",\"Danceability\",\"Energy\",\"Key\",\"Loudness\",\"Mode\",\"Speechiness\",\"Acousticness\",\"Instrumentalness\",\"Liveness\",\"Valence\",\"Tempo\",\"Time_Signature\"]\n",
    "y_cols    = [\"Genre\"]\n",
    "meta_cols = [\"Id\",\"Popularity\",\"Name\",\"Artist\"]"
   ]
  },
  {
   "cell_type": "code",
   "execution_count": 4,
   "metadata": {},
   "outputs": [],
   "source": [
    "X,y,meta = df[x_cols],df[y_cols].iloc[:,0],df[meta_cols]"
   ]
  },
  {
   "cell_type": "code",
   "execution_count": 5,
   "metadata": {},
   "outputs": [
    {
     "data": {
      "image/png": "[encoded data removed]",
      "text/plain": [
       "<Figure size 432x288 with 1 Axes>"
      ]
     },
     "metadata": {
      "needs_background": "light"
     },
     "output_type": "display_data"
    }
   ],
   "source": [
    "hist_data = dict(y.value_counts())\n",
    "keys = list(hist_data.keys())\n",
    "vals = list(hist_data.values())\n",
    "plt.bar(keys,vals ,color=colors_list)\n",
    "plt.show()"
   ]
  },
  {
   "cell_type": "code",
   "execution_count": 6,
   "metadata": {},
   "outputs": [
    {
     "data": {
      "image/png": "[encoded data removed]",
      "text/plain": [
       "<Figure size 432x288 with 1 Axes>"
      ]
     },
     "metadata": {},
     "output_type": "display_data"
    }
   ],
   "source": [
    "plt.pie(vals,labels=keys ,colors=colors_list)\n",
    "plt.show()"
   ]
  },
  {
   "cell_type": "code",
   "execution_count": 7,
   "metadata": {},
   "outputs": [
    {
     "data": {
      "text/html": [
       "<div>\n",
       "<style scoped>\n",
       "    .dataframe tbody tr th:only-of-type {\n",
       "        vertical-align: middle;\n",
       "    }\n",
       "\n",
       "    .dataframe tbody tr th {\n",
       "        vertical-align: top;\n",
       "    }\n",
       "\n",
       "    .dataframe thead th {\n",
       "        text-align: right;\n",
       "    }\n",
       "</style>\n",
       "<table border=\"1\" class=\"dataframe\">\n",
       "  <thead>\n",
       "    <tr style=\"text-align: right;\">\n",
       "      <th></th>\n",
       "      <th>Danceability</th>\n",
       "      <th>Energy</th>\n",
       "      <th>Key</th>\n",
       "      <th>Loudness</th>\n",
       "      <th>Mode</th>\n",
       "      <th>Speechiness</th>\n",
       "      <th>Acousticness</th>\n",
       "      <th>Instrumentalness</th>\n",
       "      <th>Liveness</th>\n",
       "      <th>Valence</th>\n",
       "      <th>Tempo</th>\n",
       "      <th>Time_Signature</th>\n",
       "    </tr>\n",
       "  </thead>\n",
       "  <tbody>\n",
       "    <tr>\n",
       "      <th>count</th>\n",
       "      <td>3811.000000</td>\n",
       "      <td>3811.000000</td>\n",
       "      <td>3811.000000</td>\n",
       "      <td>3811.000000</td>\n",
       "      <td>3811.000000</td>\n",
       "      <td>3811.000000</td>\n",
       "      <td>3811.000000</td>\n",
       "      <td>3811.000000</td>\n",
       "      <td>3811.000000</td>\n",
       "      <td>3811.000000</td>\n",
       "      <td>3811.00000</td>\n",
       "      <td>3811.000000</td>\n",
       "    </tr>\n",
       "    <tr>\n",
       "      <th>mean</th>\n",
       "      <td>0.631162</td>\n",
       "      <td>0.598401</td>\n",
       "      <td>5.294149</td>\n",
       "      <td>-7.301591</td>\n",
       "      <td>0.701128</td>\n",
       "      <td>0.074954</td>\n",
       "      <td>0.302874</td>\n",
       "      <td>0.020029</td>\n",
       "      <td>0.167608</td>\n",
       "      <td>0.520005</td>\n",
       "      <td>118.61404</td>\n",
       "      <td>3.952506</td>\n",
       "    </tr>\n",
       "    <tr>\n",
       "      <th>std</th>\n",
       "      <td>0.132717</td>\n",
       "      <td>0.193928</td>\n",
       "      <td>3.605961</td>\n",
       "      <td>3.120523</td>\n",
       "      <td>0.457824</td>\n",
       "      <td>0.077430</td>\n",
       "      <td>0.284744</td>\n",
       "      <td>0.102962</td>\n",
       "      <td>0.125121</td>\n",
       "      <td>0.226098</td>\n",
       "      <td>28.33631</td>\n",
       "      <td>0.284510</td>\n",
       "    </tr>\n",
       "    <tr>\n",
       "      <th>min</th>\n",
       "      <td>0.142000</td>\n",
       "      <td>0.021000</td>\n",
       "      <td>0.000000</td>\n",
       "      <td>-24.385000</td>\n",
       "      <td>0.000000</td>\n",
       "      <td>0.022800</td>\n",
       "      <td>0.000003</td>\n",
       "      <td>0.000000</td>\n",
       "      <td>0.021900</td>\n",
       "      <td>0.037600</td>\n",
       "      <td>37.39900</td>\n",
       "      <td>1.000000</td>\n",
       "    </tr>\n",
       "    <tr>\n",
       "      <th>25%</th>\n",
       "      <td>0.549000</td>\n",
       "      <td>0.465500</td>\n",
       "      <td>2.000000</td>\n",
       "      <td>-8.835000</td>\n",
       "      <td>0.000000</td>\n",
       "      <td>0.033600</td>\n",
       "      <td>0.053300</td>\n",
       "      <td>0.000000</td>\n",
       "      <td>0.095400</td>\n",
       "      <td>0.342000</td>\n",
       "      <td>97.00000</td>\n",
       "      <td>4.000000</td>\n",
       "    </tr>\n",
       "    <tr>\n",
       "      <th>50%</th>\n",
       "      <td>0.637000</td>\n",
       "      <td>0.619000</td>\n",
       "      <td>5.000000</td>\n",
       "      <td>-6.544000</td>\n",
       "      <td>1.000000</td>\n",
       "      <td>0.045400</td>\n",
       "      <td>0.204000</td>\n",
       "      <td>0.000001</td>\n",
       "      <td>0.121000</td>\n",
       "      <td>0.515000</td>\n",
       "      <td>115.74100</td>\n",
       "      <td>4.000000</td>\n",
       "    </tr>\n",
       "    <tr>\n",
       "      <th>75%</th>\n",
       "      <td>0.726000</td>\n",
       "      <td>0.747000</td>\n",
       "      <td>8.000000</td>\n",
       "      <td>-5.114000</td>\n",
       "      <td>1.000000</td>\n",
       "      <td>0.076450</td>\n",
       "      <td>0.518000</td>\n",
       "      <td>0.000096</td>\n",
       "      <td>0.191000</td>\n",
       "      <td>0.690000</td>\n",
       "      <td>136.04100</td>\n",
       "      <td>4.000000</td>\n",
       "    </tr>\n",
       "    <tr>\n",
       "      <th>max</th>\n",
       "      <td>0.966000</td>\n",
       "      <td>0.993000</td>\n",
       "      <td>11.000000</td>\n",
       "      <td>0.366000</td>\n",
       "      <td>1.000000</td>\n",
       "      <td>0.830000</td>\n",
       "      <td>0.995000</td>\n",
       "      <td>0.959000</td>\n",
       "      <td>0.948000</td>\n",
       "      <td>0.982000</td>\n",
       "      <td>213.84000</td>\n",
       "      <td>5.000000</td>\n",
       "    </tr>\n",
       "  </tbody>\n",
       "</table>\n",
       "</div>"
      ],
      "text/plain": [
       "       Danceability       Energy          Key     Loudness         Mode  \\\n",
       "count   3811.000000  3811.000000  3811.000000  3811.000000  3811.000000   \n",
       "mean       0.631162     0.598401     5.294149    -7.301591     0.701128   \n",
       "std        0.132717     0.193928     3.605961     3.120523     0.457824   \n",
       "min        0.142000     0.021000     0.000000   -24.385000     0.000000   \n",
       "25%        0.549000     0.465500     2.000000    -8.835000     0.000000   \n",
       "50%        0.637000     0.619000     5.000000    -6.544000     1.000000   \n",
       "75%        0.726000     0.747000     8.000000    -5.114000     1.000000   \n",
       "max        0.966000     0.993000    11.000000     0.366000     1.000000   \n",
       "\n",
       "       Speechiness  Acousticness  Instrumentalness     Liveness      Valence  \\\n",
       "count  3811.000000   3811.000000       3811.000000  3811.000000  3811.000000   \n",
       "mean      0.074954      0.302874          0.020029     0.167608     0.520005   \n",
       "std       0.077430      0.284744          0.102962     0.125121     0.226098   \n",
       "min       0.022800      0.000003          0.000000     0.021900     0.037600   \n",
       "25%       0.033600      0.053300          0.000000     0.095400     0.342000   \n",
       "50%       0.045400      0.204000          0.000001     0.121000     0.515000   \n",
       "75%       0.076450      0.518000          0.000096     0.191000     0.690000   \n",
       "max       0.830000      0.995000          0.959000     0.948000     0.982000   \n",
       "\n",
       "            Tempo  Time_Signature  \n",
       "count  3811.00000     3811.000000  \n",
       "mean    118.61404        3.952506  \n",
       "std      28.33631        0.284510  \n",
       "min      37.39900        1.000000  \n",
       "25%      97.00000        4.000000  \n",
       "50%     115.74100        4.000000  \n",
       "75%     136.04100        4.000000  \n",
       "max     213.84000        5.000000  "
      ]
     },
     "execution_count": 7,
     "metadata": {},
     "output_type": "execute_result"
    }
   ],
   "source": [
    "X.describe()"
   ]
  },
  {
   "cell_type": "code",
   "execution_count": 8,
   "metadata": {},
   "outputs": [
    {
     "data": {
      "image/png": "[encoded data removed]",
      "text/plain": [
       "<Figure size 432x288 with 1 Axes>"
      ]
     },
     "metadata": {
      "needs_background": "light"
     },
     "output_type": "display_data"
    },
    {
     "data": {
      "image/png": "[encoded data removed]",
      "text/plain": [
       "<Figure size 432x288 with 1 Axes>"
      ]
     },
     "metadata": {
      "needs_background": "light"
     },
     "output_type": "display_data"
    },
    {
     "data": {
      "image/png": "[encoded data removed]",
      "text/plain": [
       "<Figure size 432x288 with 1 Axes>"
      ]
     },
     "metadata": {
      "needs_background": "light"
     },
     "output_type": "display_data"
    },
    {
     "data": {
      "image/png": "[encoded data removed]",
      "text/plain": [
       "<Figure size 432x288 with 1 Axes>"
      ]
     },
     "metadata": {
      "needs_background": "light"
     },
     "output_type": "display_data"
    },
    {
     "data": {
      "image/png": "[encoded data removed]",
      "text/plain": [
       "<Figure size 432x288 with 1 Axes>"
      ]
     },
     "metadata": {
      "needs_background": "light"
     },
     "output_type": "display_data"
    },
    {
     "data": {
      "image/png": "[encoded data removed]",
      "text/plain": [
       "<Figure size 432x288 with 1 Axes>"
      ]
     },
     "metadata": {
      "needs_background": "light"
     },
     "output_type": "display_data"
    },
    {
     "data": {
      "image/png": "[encoded data removed]",
      "text/plain": [
       "<Figure size 432x288 with 1 Axes>"
      ]
     },
     "metadata": {
      "needs_background": "light"
     },
     "output_type": "display_data"
    },
    {
     "data": {
      "image/png": "[encoded data removed]",
      "text/plain": [
       "<Figure size 432x288 with 1 Axes>"
      ]
     },
     "metadata": {
      "needs_background": "light"
     },
     "output_type": "display_data"
    },
    {
     "data": {
      "image/png": "[encoded data removed]",
      "text/plain": [
       "<Figure size 432x288 with 1 Axes>"
      ]
     },
     "metadata": {
      "needs_background": "light"
     },
     "output_type": "display_data"
    },
    {
     "data": {
      "image/png": "[encoded data removed]",
      "text/plain": [
       "<Figure size 432x288 with 1 Axes>"
      ]
     },
     "metadata": {
      "needs_background": "light"
     },
     "output_type": "display_data"
    },
    {
     "data": {
      "image/png": "[encoded data removed]",
      "text/plain": [
       "<Figure size 432x288 with 1 Axes>"
      ]
     },
     "metadata": {
      "needs_background": "light"
     },
     "output_type": "display_data"
    },
    {
     "data": {
      "image/png": "[encoded data removed]",
      "text/plain": [
       "<Figure size 432x288 with 1 Axes>"
      ]
     },
     "metadata": {
      "needs_background": "light"
     },
     "output_type": "display_data"
    }
   ],
   "source": [
    "for label, content in X.iteritems():\n",
    "    if label != \"Is_Exp\":\n",
    "        for genre in genres:\n",
    "            plt.hist(content[df[\"Genre\"] == genre],label=genre,color=colors[genre],density=1,alpha=.5)\n",
    "            plt.title(label)\n",
    "        plt.legend()\n",
    "        plt.show()"
   ]
  },
  {
   "cell_type": "code",
   "execution_count": 9,
   "metadata": {},
   "outputs": [],
   "source": [
    "from sklearn.decomposition import PCA\n",
    "# from mpl_toolkits.mplot3d import Axes3D\n",
    "from sklearn.preprocessing import StandardScaler\n",
    "\n",
    "scaler   = StandardScaler()\n",
    "scaled_X = scaler.fit_transform(X)\n",
    "pca = PCA(n_components=2)\n",
    "prin_comp = pca.fit_transform(scaled_X)\n",
    "prin_df   = pd.DataFrame(data=prin_comp, columns=[\"PC1\",\"PC2\"])"
   ]
  },
  {
   "cell_type": "code",
   "execution_count": 10,
   "metadata": {},
   "outputs": [],
   "source": [
    "# fig = plt.figure()\n",
    "# ax = fig.add_subplot(111)\n",
    "\n",
    "\n",
    "# for genre, color in zip(genres, colors_list):\n",
    "#     mask = list(df[\"Genre\"] == genre)\n",
    "#     xs   = prin_df[\"PC1\"][mask]\n",
    "#     ys   = prin_df[\"PC2\"][mask]\n",
    "#     ax.scatter(xs,ys, c=color,alpha=.4)\n",
    "\n",
    "# ax.legend(genres)\n",
    "# ax.grid()"
   ]
  },
  {
   "cell_type": "code",
   "execution_count": 11,
   "metadata": {},
   "outputs": [],
   "source": [
    "# pca = PCA(n_components=3)\n",
    "# prin_comp = pca.fit_transform(scaled_X)\n",
    "# prin_df   = pd.DataFrame(data=prin_comp, columns=[\"PC1\",\"PC2\",\"PC3\"])\n",
    "\n",
    "# fig = plt.figure()\n",
    "# ax = fig.add_subplot(111, projection='3d')\n",
    "\n",
    "# for genre, color in zip(genres, colors_list):\n",
    "#     mask = list(df[\"Genre\"] == genre)\n",
    "#     ax.scatter(prin_df[\"PC1\"][mask], prin_df[\"PC2\"][mask], prin_df[\"PC3\"][mask], c=color,alpha=.4)\n",
    "\n",
    "    \n",
    "# ax.legend(genres)\n",
    "# ax.grid()"
   ]
  },
  {
   "cell_type": "code",
   "execution_count": 22,
   "metadata": {},
   "outputs": [],
   "source": [
    "from sklearn.cluster import KMeans\n",
    "from sklearn.model_selection import train_test_split\n",
    "from sklearn.metrics import classification_report"
   ]
  },
  {
   "cell_type": "code",
   "execution_count": 13,
   "metadata": {},
   "outputs": [],
   "source": [
    "X_train, X_test, y_train, y_test = train_test_split(scaled_X,y, test_size=.2)"
   ]
  },
  {
   "cell_type": "code",
   "execution_count": 20,
   "metadata": {},
   "outputs": [],
   "source": [
    "means = []\n",
    "ks = list(range(2,40))\n",
    "for k in ks:\n",
    "    km = KMeans(n_clusters=k)\n",
    "    km.fit(X_train)\n",
    "    means.append(km.inertia_)"
   ]
  },
  {
   "cell_type": "code",
   "execution_count": 48,
   "metadata": {},
   "outputs": [
    {
     "name": "stdout",
     "output_type": "stream",
     "text": [
      "              precision    recall  f1-score   support\n",
      "\n",
      "       False       0.57      0.25      0.35      2711\n",
      "        True       0.22      0.53      0.31      1100\n",
      "\n",
      "   micro avg       0.33      0.33      0.33      3811\n",
      "   macro avg       0.40      0.39      0.33      3811\n",
      "weighted avg       0.47      0.33      0.34      3811\n",
      "\n"
     ]
    }
   ],
   "source": [
    "best_k = 2#13\n",
    "km = KMeans(n_clusters=best_k)\n",
    "train_pred = km.fit_predict(scaled_X)\n",
    "# y_pred = km.predict(X_test)\n",
    "print(classification_report((y==\"country\"), train_pred))"
   ]
  },
  {
   "cell_type": "code",
   "execution_count": 47,
   "metadata": {},
   "outputs": [],
   "source": [
    "from sklearn.linear_model import LogisticRegression"
   ]
  },
  {
   "cell_type": "code",
   "execution_count": 60,
   "metadata": {},
   "outputs": [
    {
     "name": "stdout",
     "output_type": "stream",
     "text": [
      "Training Accuracy: 0.8093832020997376\n",
      "Testing  Accuracy: 0.8309305373525557\n",
      "              precision    recall  f1-score   support\n",
      "\n",
      "     country       0.73      0.59      0.65       206\n",
      "         pop       0.86      0.92      0.89       557\n",
      "\n",
      "   micro avg       0.83      0.83      0.83       763\n",
      "   macro avg       0.79      0.76      0.77       763\n",
      "weighted avg       0.82      0.83      0.82       763\n",
      "\n"
     ]
    }
   ],
   "source": [
    "clf = LogisticRegression(solver=\"lbfgs\", multi_class=\"ovr\")\n",
    "clf.fit(X_train,y_train)\n",
    "y_pred = clf.predict(X_test)\n",
    "training = clf.score(X_train, y_train)\n",
    "testing  = clf.score(X_test,  y_test)\n",
    "print(\"Training Accuracy: {}\".format(training))\n",
    "print(\"Testing  Accuracy: {}\".format(testing))\n",
    "\n",
    "print(classification_report(y_test, y_pred))"
   ]
  },
  {
   "cell_type": "code",
   "execution_count": null,
   "metadata": {},
   "outputs": [],
   "source": []
  }
 ],
 "metadata": {
  "kernelspec": {
   "display_name": "Python 3",
   "language": "python",
   "name": "python3"
  },
  "language_info": {
   "codemirror_mode": {
    "name": "ipython",
    "version": 3
   },
   "file_extension": ".py",
   "mimetype": "text/x-python",
   "name": "python",
   "nbconvert_exporter": "python",
   "pygments_lexer": "ipython3",
   "version": "3.6.0"
  }
 },
 "nbformat": 4,
 "nbformat_minor": 2
}
