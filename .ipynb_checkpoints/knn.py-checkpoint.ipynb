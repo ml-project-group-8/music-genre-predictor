{
 "cells": [
  {
   "cell_type": "code",
   "execution_count": 2,
   "metadata": {},
   "outputs": [],
   "source": [
    "#source: https://stackabuse.com/k-nearest-neighbors-algorithm-in-python-and-scikit-learn/\n",
    "\n",
    "#import libs\n",
    "import numpy as np  \n",
    "import matplotlib.pyplot as plt  \n",
    "import pandas as pd  "
   ]
  },
  {
   "cell_type": "code",
   "execution_count": 3,
   "metadata": {},
   "outputs": [
    {
     "data": {
      "text/html": [
       "<div>\n",
       "<style scoped>\n",
       "    .dataframe tbody tr th:only-of-type {\n",
       "        vertical-align: middle;\n",
       "    }\n",
       "\n",
       "    .dataframe tbody tr th {\n",
       "        vertical-align: top;\n",
       "    }\n",
       "\n",
       "    .dataframe thead th {\n",
       "        text-align: right;\n",
       "    }\n",
       "</style>\n",
       "<table border=\"1\" class=\"dataframe\">\n",
       "  <thead>\n",
       "    <tr style=\"text-align: right;\">\n",
       "      <th></th>\n",
       "      <th>Genre</th>\n",
       "      <th>Id</th>\n",
       "      <th>Popularity</th>\n",
       "      <th>Is_Exp</th>\n",
       "      <th>Name</th>\n",
       "      <th>Artist</th>\n",
       "      <th>Danceability</th>\n",
       "      <th>Energy</th>\n",
       "      <th>Key</th>\n",
       "      <th>Loudness</th>\n",
       "      <th>Mode</th>\n",
       "      <th>Speechiness</th>\n",
       "      <th>Acousticness</th>\n",
       "      <th>Instrumentalness</th>\n",
       "      <th>Liveness</th>\n",
       "      <th>Valence</th>\n",
       "      <th>Tempo</th>\n",
       "      <th>Time_Signature</th>\n",
       "    </tr>\n",
       "  </thead>\n",
       "  <tbody>\n",
       "    <tr>\n",
       "      <th>0</th>\n",
       "      <td>country</td>\n",
       "      <td>2rxQMGVafnNaRaXlRMWPde</td>\n",
       "      <td>83</td>\n",
       "      <td>False</td>\n",
       "      <td>Beautiful Crazy</td>\n",
       "      <td>Luke Combs</td>\n",
       "      <td>0.552</td>\n",
       "      <td>0.402</td>\n",
       "      <td>11</td>\n",
       "      <td>-7.431</td>\n",
       "      <td>1</td>\n",
       "      <td>0.0262</td>\n",
       "      <td>0.67600</td>\n",
       "      <td>0.000000</td>\n",
       "      <td>0.0928</td>\n",
       "      <td>0.382</td>\n",
       "      <td>103.313</td>\n",
       "      <td>4</td>\n",
       "    </tr>\n",
       "    <tr>\n",
       "      <th>1</th>\n",
       "      <td>country</td>\n",
       "      <td>3L5cSHbf7oBWubuCwJbUGt</td>\n",
       "      <td>73</td>\n",
       "      <td>False</td>\n",
       "      <td>Nothing To Do Town</td>\n",
       "      <td>Dylan Scott</td>\n",
       "      <td>0.551</td>\n",
       "      <td>0.836</td>\n",
       "      <td>2</td>\n",
       "      <td>-5.182</td>\n",
       "      <td>1</td>\n",
       "      <td>0.0338</td>\n",
       "      <td>0.02490</td>\n",
       "      <td>0.000013</td>\n",
       "      <td>0.2220</td>\n",
       "      <td>0.911</td>\n",
       "      <td>147.954</td>\n",
       "      <td>4</td>\n",
       "    </tr>\n",
       "    <tr>\n",
       "      <th>2</th>\n",
       "      <td>country</td>\n",
       "      <td>6ERR6e7h6wCqGoz1TjiUJb</td>\n",
       "      <td>70</td>\n",
       "      <td>False</td>\n",
       "      <td>Knockin' Boots</td>\n",
       "      <td>Luke Bryan</td>\n",
       "      <td>0.739</td>\n",
       "      <td>0.682</td>\n",
       "      <td>2</td>\n",
       "      <td>-3.728</td>\n",
       "      <td>1</td>\n",
       "      <td>0.2050</td>\n",
       "      <td>0.12900</td>\n",
       "      <td>0.000000</td>\n",
       "      <td>0.3280</td>\n",
       "      <td>0.634</td>\n",
       "      <td>131.983</td>\n",
       "      <td>4</td>\n",
       "    </tr>\n",
       "    <tr>\n",
       "      <th>3</th>\n",
       "      <td>country</td>\n",
       "      <td>0QFvybNsiwupz72jpQWxKn</td>\n",
       "      <td>67</td>\n",
       "      <td>False</td>\n",
       "      <td>That's How You Got It</td>\n",
       "      <td>John Gurney</td>\n",
       "      <td>0.673</td>\n",
       "      <td>0.683</td>\n",
       "      <td>4</td>\n",
       "      <td>-4.224</td>\n",
       "      <td>1</td>\n",
       "      <td>0.0321</td>\n",
       "      <td>0.00181</td>\n",
       "      <td>0.000011</td>\n",
       "      <td>0.0990</td>\n",
       "      <td>0.824</td>\n",
       "      <td>89.984</td>\n",
       "      <td>4</td>\n",
       "    </tr>\n",
       "    <tr>\n",
       "      <th>4</th>\n",
       "      <td>country</td>\n",
       "      <td>7C6JnGZRj0HMIF06rlz9Mb</td>\n",
       "      <td>75</td>\n",
       "      <td>False</td>\n",
       "      <td>Make It Sweet</td>\n",
       "      <td>Old Dominion</td>\n",
       "      <td>0.539</td>\n",
       "      <td>0.859</td>\n",
       "      <td>7</td>\n",
       "      <td>-4.465</td>\n",
       "      <td>1</td>\n",
       "      <td>0.0399</td>\n",
       "      <td>0.03170</td>\n",
       "      <td>0.000000</td>\n",
       "      <td>0.1020</td>\n",
       "      <td>0.456</td>\n",
       "      <td>89.937</td>\n",
       "      <td>4</td>\n",
       "    </tr>\n",
       "  </tbody>\n",
       "</table>\n",
       "</div>"
      ],
      "text/plain": [
       "     Genre                      Id  Popularity  Is_Exp                   Name  \\\n",
       "0  country  2rxQMGVafnNaRaXlRMWPde          83   False        Beautiful Crazy   \n",
       "1  country  3L5cSHbf7oBWubuCwJbUGt          73   False     Nothing To Do Town   \n",
       "2  country  6ERR6e7h6wCqGoz1TjiUJb          70   False         Knockin' Boots   \n",
       "3  country  0QFvybNsiwupz72jpQWxKn          67   False  That's How You Got It   \n",
       "4  country  7C6JnGZRj0HMIF06rlz9Mb          75   False          Make It Sweet   \n",
       "\n",
       "         Artist  Danceability  Energy  Key  Loudness  Mode  Speechiness  \\\n",
       "0    Luke Combs         0.552   0.402   11    -7.431     1       0.0262   \n",
       "1   Dylan Scott         0.551   0.836    2    -5.182     1       0.0338   \n",
       "2    Luke Bryan         0.739   0.682    2    -3.728     1       0.2050   \n",
       "3   John Gurney         0.673   0.683    4    -4.224     1       0.0321   \n",
       "4  Old Dominion         0.539   0.859    7    -4.465     1       0.0399   \n",
       "\n",
       "   Acousticness  Instrumentalness  Liveness  Valence    Tempo  Time_Signature  \n",
       "0       0.67600          0.000000    0.0928    0.382  103.313               4  \n",
       "1       0.02490          0.000013    0.2220    0.911  147.954               4  \n",
       "2       0.12900          0.000000    0.3280    0.634  131.983               4  \n",
       "3       0.00181          0.000011    0.0990    0.824   89.984               4  \n",
       "4       0.03170          0.000000    0.1020    0.456   89.937               4  "
      ]
     },
     "execution_count": 3,
     "metadata": {},
     "output_type": "execute_result"
    }
   ],
   "source": [
    "#import dataset\n",
    "df = pd.read_csv('final.csv')\n",
    "df = df.drop(columns=\"Unnamed: 0\")\n",
    "df.head()"
   ]
  },
  {
   "cell_type": "code",
   "execution_count": 4,
   "metadata": {},
   "outputs": [],
   "source": [
    "#preprocessing\n",
    "x_cols    = [\"Is_Exp\",\"Danceability\",\"Energy\",\"Key\",\"Loudness\",\"Mode\",\"Speechiness\",\"Acousticness\",\"Instrumentalness\",\"Liveness\",\"Valence\",\"Tempo\",\"Time_Signature\"]\n",
    "y_cols    = [\"Genre\"]\n",
    "meta_cols = [\"Id\",\"Popularity\",\"Name\",\"Artist\"]\n",
    "X,y,meta = df[x_cols],df[y_cols].iloc[:,0],df[meta_cols]"
   ]
  },
  {
   "cell_type": "code",
   "execution_count": 5,
   "metadata": {},
   "outputs": [],
   "source": [
    "from sklearn.model_selection import train_test_split  \n",
    "#splits the dataset into 80% train data and 20% test data\n",
    "X_train, X_test, y_train, y_test = train_test_split(X, y, test_size=0.20)  "
   ]
  },
  {
   "cell_type": "code",
   "execution_count": 7,
   "metadata": {},
   "outputs": [
    {
     "name": "stderr",
     "output_type": "stream",
     "text": [
      "/Library/Frameworks/Python.framework/Versions/3.6/lib/python3.6/site-packages/sklearn/preprocessing/data.py:625: DataConversionWarning: Data with input dtype bool, int64, float64 were all converted to float64 by StandardScaler.\n",
      "  return self.partial_fit(X, y)\n",
      "/Library/Frameworks/Python.framework/Versions/3.6/lib/python3.6/site-packages/ipykernel_launcher.py:5: DataConversionWarning: Data with input dtype bool, int64, float64 were all converted to float64 by StandardScaler.\n",
      "  \"\"\"\n",
      "/Library/Frameworks/Python.framework/Versions/3.6/lib/python3.6/site-packages/ipykernel_launcher.py:6: DataConversionWarning: Data with input dtype bool, int64, float64 were all converted to float64 by StandardScaler.\n",
      "  \n"
     ]
    }
   ],
   "source": [
    "from sklearn.preprocessing import StandardScaler  \n",
    "scaler = StandardScaler()  \n",
    "scaler.fit(X_train)\n",
    "\n",
    "X_train = scaler.transform(X_train)  \n",
    "X_test = scaler.transform(X_test)  "
   ]
  },
  {
   "cell_type": "code",
   "execution_count": 18,
   "metadata": {},
   "outputs": [
    {
     "name": "stdout",
     "output_type": "stream",
     "text": [
      "[[155  77]\n",
      " [ 84 447]]\n",
      "              precision    recall  f1-score   support\n",
      "\n",
      "     country       0.65      0.67      0.66       232\n",
      "         pop       0.85      0.84      0.85       531\n",
      "\n",
      "   micro avg       0.79      0.79      0.79       763\n",
      "   macro avg       0.75      0.75      0.75       763\n",
      "weighted avg       0.79      0.79      0.79       763\n",
      "\n",
      "0.7889908256880734\n"
     ]
    }
   ],
   "source": [
    "#KNN = 1\n",
    "from sklearn.neighbors import KNeighborsClassifier  \n",
    "classifier = KNeighborsClassifier(n_neighbors=1)  \n",
    "classifier.fit(X_train, y_train)  \n",
    "y_pred = classifier.predict(X_test)  \n",
    "from sklearn.metrics import classification_report, confusion_matrix  \n",
    "print(confusion_matrix(y_test, y_pred))  \n",
    "print(classification_report(y_test, y_pred))  \n",
    "print(accuracy_score(y_test, y_pred))"
   ]
  },
  {
   "cell_type": "code",
   "execution_count": 16,
   "metadata": {},
   "outputs": [
    {
     "name": "stdout",
     "output_type": "stream",
     "text": [
      "[[145  87]\n",
      " [ 80 451]]\n",
      "              precision    recall  f1-score   support\n",
      "\n",
      "     country       0.64      0.62      0.63       232\n",
      "         pop       0.84      0.85      0.84       531\n",
      "\n",
      "   micro avg       0.78      0.78      0.78       763\n",
      "   macro avg       0.74      0.74      0.74       763\n",
      "weighted avg       0.78      0.78      0.78       763\n",
      "\n",
      "0.781127129750983\n"
     ]
    }
   ],
   "source": [
    "#KNN = 3\n",
    "from sklearn.neighbors import KNeighborsClassifier  \n",
    "classifier = KNeighborsClassifier(n_neighbors=3)  \n",
    "classifier.fit(X_train, y_train)  \n",
    "y_pred = classifier.predict(X_test)  \n",
    "from sklearn.metrics import classification_report, confusion_matrix  \n",
    "print(confusion_matrix(y_test, y_pred))  \n",
    "print(classification_report(y_test, y_pred)) \n",
    "print(accuracy_score(y_test, y_pred))"
   ]
  },
  {
   "cell_type": "code",
   "execution_count": 14,
   "metadata": {},
   "outputs": [
    {
     "name": "stdout",
     "output_type": "stream",
     "text": [
      "[[139  93]\n",
      " [ 64 467]]\n",
      "              precision    recall  f1-score   support\n",
      "\n",
      "     country       0.68      0.60      0.64       232\n",
      "         pop       0.83      0.88      0.86       531\n",
      "\n",
      "   micro avg       0.79      0.79      0.79       763\n",
      "   macro avg       0.76      0.74      0.75       763\n",
      "weighted avg       0.79      0.79      0.79       763\n",
      "\n",
      "0.7942332896461337\n"
     ]
    }
   ],
   "source": [
    "from sklearn.neighbors import KNeighborsClassifier  \n",
    "from sklearn.metrics import accuracy_score\n",
    "classifier = KNeighborsClassifier(n_neighbors=5)  \n",
    "classifier.fit(X_train, y_train)  \n",
    "y_pred = classifier.predict(X_test)  \n",
    "from sklearn.metrics import classification_report, confusion_matrix  \n",
    "print(confusion_matrix(y_test, y_pred))  \n",
    "print(classification_report(y_test, y_pred)) \n",
    "print(accuracy_score(y_test, y_pred))"
   ]
  },
  {
   "cell_type": "code",
   "execution_count": 19,
   "metadata": {},
   "outputs": [
    {
     "name": "stdout",
     "output_type": "stream",
     "text": [
      "[[143  89]\n",
      " [ 63 468]]\n",
      "              precision    recall  f1-score   support\n",
      "\n",
      "     country       0.69      0.62      0.65       232\n",
      "         pop       0.84      0.88      0.86       531\n",
      "\n",
      "   micro avg       0.80      0.80      0.80       763\n",
      "   macro avg       0.77      0.75      0.76       763\n",
      "weighted avg       0.80      0.80      0.80       763\n",
      "\n",
      "0.8007863695937091\n"
     ]
    }
   ],
   "source": [
    "from sklearn.neighbors import KNeighborsClassifier  \n",
    "classifier = KNeighborsClassifier(n_neighbors=7)  \n",
    "classifier.fit(X_train, y_train)  \n",
    "y_pred = classifier.predict(X_test)  \n",
    "from sklearn.metrics import classification_report, confusion_matrix  \n",
    "print(confusion_matrix(y_test, y_pred))  \n",
    "print(classification_report(y_test, y_pred)) \n",
    "print(accuracy_score(y_test, y_pred))"
   ]
  },
  {
   "cell_type": "code",
   "execution_count": 20,
   "metadata": {},
   "outputs": [
    {
     "name": "stdout",
     "output_type": "stream",
     "text": [
      "[[140  92]\n",
      " [ 56 475]]\n",
      "              precision    recall  f1-score   support\n",
      "\n",
      "     country       0.71      0.60      0.65       232\n",
      "         pop       0.84      0.89      0.87       531\n",
      "\n",
      "   micro avg       0.81      0.81      0.81       763\n",
      "   macro avg       0.78      0.75      0.76       763\n",
      "weighted avg       0.80      0.81      0.80       763\n",
      "\n",
      "0.8060288335517694\n"
     ]
    }
   ],
   "source": [
    "from sklearn.neighbors import KNeighborsClassifier  \n",
    "classifier = KNeighborsClassifier(n_neighbors=9)  \n",
    "classifier.fit(X_train, y_train)  \n",
    "y_pred = classifier.predict(X_test)  \n",
    "from sklearn.metrics import classification_report, confusion_matrix  \n",
    "print(confusion_matrix(y_test, y_pred))  \n",
    "print(classification_report(y_test, y_pred)) \n",
    "print(accuracy_score(y_test, y_pred))"
   ]
  },
  {
   "cell_type": "code",
   "execution_count": null,
   "metadata": {},
   "outputs": [],
   "source": []
  }
 ],
 "metadata": {
  "kernelspec": {
   "display_name": "Python 3",
   "language": "python",
   "name": "python3"
  },
  "language_info": {
   "codemirror_mode": {
    "name": "ipython",
    "version": 3
   },
   "file_extension": ".py",
   "mimetype": "text/x-python",
   "name": "python",
   "nbconvert_exporter": "python",
   "pygments_lexer": "ipython3",
   "version": "3.6.8"
  }
 },
 "nbformat": 4,
 "nbformat_minor": 2
}
