{
 "cells": [
  {
   "cell_type": "code",
   "execution_count": 22,
   "metadata": {},
   "outputs": [],
   "source": [
    " # For accessing internet resources, namely spotify api\n",
    "import requests\n",
    "\n",
    "# COnfig just saves our secret stuff. It is ignored by .gitignore,\n",
    "# so we can only intentionally add it to the repository\n",
    "from config import client_id, client_secret, token"
   ]
  },
  {
   "cell_type": "code",
   "execution_count": 34,
   "metadata": {},
   "outputs": [],
   "source": [
    "\n",
    "# We want to grab all features playlists and get their songs. These\n",
    "# SHOULD be indicative of their genres\n",
    "playlist_url = \"https://api.spotify.com/v1/browse/featured-playlists\"\n",
    "token = \"BQAcVCSHMsguS4mvm0ThmC1WP8s3CAnpRrQLd7uf0P4St1NFDEU0XVvjkI8cvpZOmUW8sxLj6OY7g2mVQnPhMS3wqnR0yOpsgnlQnXOQ6aBLMH_qbkyqrmFwJrQrvIOUUGcqt_iXVgxyXR1v\"\n",
    "headers = {\n",
    "    \"Authorization\": \"Bearer {}\".format(token),\n",
    "}\n",
    "data    = {\n",
    "    \"country\": \"US\",\n",
    "    \"limit\": 50, # This is a max we gotta iterate to get them all\n",
    "    \"offset\": 0, # Initially 0, we udate this until no more playlist\n",
    "}\n",
    "response = requests.get(playlist_url,headers=headers,params=data)\n",
    "\n",
    "playlist_data = response.json()\n",
    "\n",
    "p_url = \"https://api.spotify.com/v1/playlists/{}/tracks\"\n",
    "data    = {\n",
    "    \"market\": \"US\",\n",
    "    \"limit\": 50, # This is a max we gotta iterate to get them all\n",
    "    \"offset\": 0, # Initially 0, we udate this until no more playlist\n",
    "}\n",
    "tracks = []\n",
    "weGood = False\n",
    "while now weGood:\n",
    "    for plist in playlist_data[\"playlists\"][\"items\"]:\n",
    "        ident = plist[\"id\"]\n",
    "        my_url = p_url.format(ident)\n",
    "        response = requests.get(my_url,headers=headers,params=data)\n",
    "        result = response.json()\n",
    "\n",
    "        for item in result[\"items\"]:\n",
    "            track = item[\"track\"]\n",
    "            if not track[\"track\"]:\n",
    "                continue\n",
    "            track_id  = track[\"id\"]\n",
    "            track_pop = track[\"popularity\"]\n",
    "            track_exp = track[\"explicit\"]\n",
    "            tracks.append( [track_id, track_pop, track_exp] )\n",
    "\n",
    "        if len(result[\"items\"]) != 0:\n",
    "            data[\"offset\"] += len(result[\"items\"])\n",
    "        else:\n",
    "            weGood = True\n",
    "    \n",
    "\n",
    "features   = []\n",
    "feat_names = [\n",
    "    \"danceability\",\"energy\",\"key\",\"loudness\",\"mode\",\"speechiness\",\n",
    "    \"acousticness\",\"instrumentalness\",\"liveness\",\"valence\",\n",
    "    \"tempo\",\"time_signature\"\n",
    "]\n",
    "for track in tracks:\n",
    "    track_url    = \"https://api.spotify.com/v1/audio-features/{}\".format(track[0])\n",
    "    analysis_url = \"https://api.spotify.com/v1/audio-analysis/{}\".format(track[0])\n",
    "    \n",
    "    response = requests.get(track_url,headers=headers)\n",
    "    result = response.json()\n",
    "    curr   = list(track[1:])\n",
    "    \n",
    "    for f in feat_names:\n",
    "        v = result.get(f)\n",
    "        if v != None:\n",
    "            curr.append(result[f])\n",
    "        else:\n",
    "            curr.append(-100000)\n",
    "    features.append(curr)"
   ]
  },
  {
   "cell_type": "code",
   "execution_count": 36,
   "metadata": {},
   "outputs": [
    {
     "data": {
      "text/plain": [
       "453"
      ]
     },
     "execution_count": 36,
     "metadata": {},
     "output_type": "execute_result"
    }
   ],
   "source": [
    "len(features)"
   ]
  },
  {
   "cell_type": "code",
   "execution_count": 31,
   "metadata": {},
   "outputs": [],
   "source": [
    "m =l.get(\"l\")"
   ]
  },
  {
   "cell_type": "code",
   "execution_count": 33,
   "metadata": {},
   "outputs": [
    {
     "data": {
      "text/plain": [
       "True"
      ]
     },
     "execution_count": 33,
     "metadata": {},
     "output_type": "execute_result"
    }
   ],
   "source": [
    "m == None"
   ]
  },
  {
   "cell_type": "code",
   "execution_count": null,
   "metadata": {},
   "outputs": [],
   "source": []
  }
 ],
 "metadata": {
  "kernelspec": {
   "display_name": "Python 3",
   "language": "python",
   "name": "python3"
  },
  "language_info": {
   "codemirror_mode": {
    "name": "ipython",
    "version": 3
   },
   "file_extension": ".py",
   "mimetype": "text/x-python",
   "name": "python",
   "nbconvert_exporter": "python",
   "pygments_lexer": "ipython3",
   "version": "3.6.8"
  }
 },
 "nbformat": 4,
 "nbformat_minor": 2
}
