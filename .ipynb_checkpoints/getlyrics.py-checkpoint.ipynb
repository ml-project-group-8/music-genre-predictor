{
 "cells": [
  {
   "cell_type": "code",
   "execution_count": 1,
   "metadata": {},
   "outputs": [],
   "source": [
    "# requests\n",
    "import re\n",
    "import urllib.request\n",
    "import requests\n",
    "import csv\n",
    "from collections import defaultdict\n",
    "from bs4 import BeautifulSoup\n",
    "import pandas\n"
   ]
  },
  {
   "cell_type": "code",
   "execution_count": 2,
   "metadata": {},
   "outputs": [],
   "source": [
    "def get_lyrics(artist,song_title):\n",
    "    \"\"\"\n",
    "    uses azlyrics to extract lyrics\n",
    "    \"\"\"\n",
    "    artist = artist.lower()\n",
    "    song_title = song_title.lower()\n",
    "    # remove all except alphanumeric characters from artist and song_title\n",
    "    artist = re.sub('[^A-Za-z0-9]+', \"\", artist)\n",
    "    song_title = re.sub('[^A-Za-z0-9]+', \"\", song_title)\n",
    "    if artist.startswith(\"the\"):    # remove starting 'the' from artist e.g. the who -> who\n",
    "        artist = artist[3:]\n",
    "    url = \"http://azlyrics.com/lyrics/\"+artist+\"/\"+song_title+\".html\"\n",
    "    \n",
    "    try:\n",
    "        content = urllib.request.urlopen(url).read()\n",
    "        soup = BeautifulSoup(content, 'html.parser')\n",
    "        lyrics = str(soup)\n",
    "        # lyrics lies between up_partition and down_partition\n",
    "        up_partition = '<!-- Usage of azlyrics.com content by any third-party lyrics provider is prohibited by our licensing agreement. Sorry about that. -->'\n",
    "        down_partition = '<!-- MxM banner -->'\n",
    "        lyrics = lyrics.split(up_partition)[1]\n",
    "        lyrics = lyrics.split(down_partition)[0]\n",
    "        lyrics = lyrics.replace('<br>','').replace('</br>','').replace('</div>','').strip()\n",
    "        return lyrics\n",
    "    except Exception as e:\n",
    "        return \"Exception occurred \\n\" +str(e)"
   ]
  },
  {
   "cell_type": "code",
   "execution_count": 5,
   "metadata": {},
   "outputs": [
    {
     "name": "stdout",
     "output_type": "stream",
     "text": [
      "0\n",
      "1\n",
      "2\n",
      "3\n",
      "4\n",
      "5\n",
      "6\n",
      "7\n",
      "8\n",
      "9\n"
     ]
    },
    {
     "ename": "ValueError",
     "evalue": "Length of values does not match length of index",
     "output_type": "error",
     "traceback": [
      "\u001b[0;31m---------------------------------------------------------------------------\u001b[0m",
      "\u001b[0;31mValueError\u001b[0m                                Traceback (most recent call last)",
      "\u001b[0;32m<ipython-input-5-a85d34443299>\u001b[0m in \u001b[0;36m<module>\u001b[0;34m\u001b[0m\n\u001b[1;32m     13\u001b[0m     \u001b[0mcount\u001b[0m \u001b[0;34m+=\u001b[0m \u001b[0;36m1\u001b[0m\u001b[0;34m\u001b[0m\u001b[0;34m\u001b[0m\u001b[0m\n\u001b[1;32m     14\u001b[0m \u001b[0;34m\u001b[0m\u001b[0m\n\u001b[0;32m---> 15\u001b[0;31m \u001b[0mdf\u001b[0m\u001b[0;34m[\u001b[0m\u001b[0;34m'lyrics'\u001b[0m\u001b[0;34m]\u001b[0m \u001b[0;34m=\u001b[0m \u001b[0mall_lyrics\u001b[0m\u001b[0;34m\u001b[0m\u001b[0;34m\u001b[0m\u001b[0m\n\u001b[0m\u001b[1;32m     16\u001b[0m \u001b[0mdf\u001b[0m\u001b[0;34m.\u001b[0m\u001b[0mto_csv\u001b[0m\u001b[0;34m(\u001b[0m\u001b[0;34m'final.csv'\u001b[0m\u001b[0;34m)\u001b[0m\u001b[0;34m\u001b[0m\u001b[0;34m\u001b[0m\u001b[0m\n",
      "\u001b[0;32m~/anaconda3/lib/python3.6/site-packages/pandas/core/frame.py\u001b[0m in \u001b[0;36m__setitem__\u001b[0;34m(self, key, value)\u001b[0m\n\u001b[1;32m   3358\u001b[0m         \u001b[0;32melse\u001b[0m\u001b[0;34m:\u001b[0m\u001b[0;34m\u001b[0m\u001b[0;34m\u001b[0m\u001b[0m\n\u001b[1;32m   3359\u001b[0m             \u001b[0;31m# set column\u001b[0m\u001b[0;34m\u001b[0m\u001b[0;34m\u001b[0m\u001b[0;34m\u001b[0m\u001b[0m\n\u001b[0;32m-> 3360\u001b[0;31m             \u001b[0mself\u001b[0m\u001b[0;34m.\u001b[0m\u001b[0m_set_item\u001b[0m\u001b[0;34m(\u001b[0m\u001b[0mkey\u001b[0m\u001b[0;34m,\u001b[0m \u001b[0mvalue\u001b[0m\u001b[0;34m)\u001b[0m\u001b[0;34m\u001b[0m\u001b[0;34m\u001b[0m\u001b[0m\n\u001b[0m\u001b[1;32m   3361\u001b[0m \u001b[0;34m\u001b[0m\u001b[0m\n\u001b[1;32m   3362\u001b[0m     \u001b[0;32mdef\u001b[0m \u001b[0m_setitem_slice\u001b[0m\u001b[0;34m(\u001b[0m\u001b[0mself\u001b[0m\u001b[0;34m,\u001b[0m \u001b[0mkey\u001b[0m\u001b[0;34m,\u001b[0m \u001b[0mvalue\u001b[0m\u001b[0;34m)\u001b[0m\u001b[0;34m:\u001b[0m\u001b[0;34m\u001b[0m\u001b[0;34m\u001b[0m\u001b[0m\n",
      "\u001b[0;32m~/anaconda3/lib/python3.6/site-packages/pandas/core/frame.py\u001b[0m in \u001b[0;36m_set_item\u001b[0;34m(self, key, value)\u001b[0m\n\u001b[1;32m   3433\u001b[0m \u001b[0;34m\u001b[0m\u001b[0m\n\u001b[1;32m   3434\u001b[0m         \u001b[0mself\u001b[0m\u001b[0;34m.\u001b[0m\u001b[0m_ensure_valid_index\u001b[0m\u001b[0;34m(\u001b[0m\u001b[0mvalue\u001b[0m\u001b[0;34m)\u001b[0m\u001b[0;34m\u001b[0m\u001b[0;34m\u001b[0m\u001b[0m\n\u001b[0;32m-> 3435\u001b[0;31m         \u001b[0mvalue\u001b[0m \u001b[0;34m=\u001b[0m \u001b[0mself\u001b[0m\u001b[0;34m.\u001b[0m\u001b[0m_sanitize_column\u001b[0m\u001b[0;34m(\u001b[0m\u001b[0mkey\u001b[0m\u001b[0;34m,\u001b[0m \u001b[0mvalue\u001b[0m\u001b[0;34m)\u001b[0m\u001b[0;34m\u001b[0m\u001b[0;34m\u001b[0m\u001b[0m\n\u001b[0m\u001b[1;32m   3436\u001b[0m         \u001b[0mNDFrame\u001b[0m\u001b[0;34m.\u001b[0m\u001b[0m_set_item\u001b[0m\u001b[0;34m(\u001b[0m\u001b[0mself\u001b[0m\u001b[0;34m,\u001b[0m \u001b[0mkey\u001b[0m\u001b[0;34m,\u001b[0m \u001b[0mvalue\u001b[0m\u001b[0;34m)\u001b[0m\u001b[0;34m\u001b[0m\u001b[0;34m\u001b[0m\u001b[0m\n\u001b[1;32m   3437\u001b[0m \u001b[0;34m\u001b[0m\u001b[0m\n",
      "\u001b[0;32m~/anaconda3/lib/python3.6/site-packages/pandas/core/frame.py\u001b[0m in \u001b[0;36m_sanitize_column\u001b[0;34m(self, key, value, broadcast)\u001b[0m\n\u001b[1;32m   3618\u001b[0m \u001b[0;34m\u001b[0m\u001b[0m\n\u001b[1;32m   3619\u001b[0m             \u001b[0;31m# turn me into an ndarray\u001b[0m\u001b[0;34m\u001b[0m\u001b[0;34m\u001b[0m\u001b[0;34m\u001b[0m\u001b[0m\n\u001b[0;32m-> 3620\u001b[0;31m             \u001b[0mvalue\u001b[0m \u001b[0;34m=\u001b[0m \u001b[0msanitize_index\u001b[0m\u001b[0;34m(\u001b[0m\u001b[0mvalue\u001b[0m\u001b[0;34m,\u001b[0m \u001b[0mself\u001b[0m\u001b[0;34m.\u001b[0m\u001b[0mindex\u001b[0m\u001b[0;34m,\u001b[0m \u001b[0mcopy\u001b[0m\u001b[0;34m=\u001b[0m\u001b[0;32mFalse\u001b[0m\u001b[0;34m)\u001b[0m\u001b[0;34m\u001b[0m\u001b[0;34m\u001b[0m\u001b[0m\n\u001b[0m\u001b[1;32m   3621\u001b[0m             \u001b[0;32mif\u001b[0m \u001b[0;32mnot\u001b[0m \u001b[0misinstance\u001b[0m\u001b[0;34m(\u001b[0m\u001b[0mvalue\u001b[0m\u001b[0;34m,\u001b[0m \u001b[0;34m(\u001b[0m\u001b[0mnp\u001b[0m\u001b[0;34m.\u001b[0m\u001b[0mndarray\u001b[0m\u001b[0;34m,\u001b[0m \u001b[0mIndex\u001b[0m\u001b[0;34m)\u001b[0m\u001b[0;34m)\u001b[0m\u001b[0;34m:\u001b[0m\u001b[0;34m\u001b[0m\u001b[0;34m\u001b[0m\u001b[0m\n\u001b[1;32m   3622\u001b[0m                 \u001b[0;32mif\u001b[0m \u001b[0misinstance\u001b[0m\u001b[0;34m(\u001b[0m\u001b[0mvalue\u001b[0m\u001b[0;34m,\u001b[0m \u001b[0mlist\u001b[0m\u001b[0;34m)\u001b[0m \u001b[0;32mand\u001b[0m \u001b[0mlen\u001b[0m\u001b[0;34m(\u001b[0m\u001b[0mvalue\u001b[0m\u001b[0;34m)\u001b[0m \u001b[0;34m>\u001b[0m \u001b[0;36m0\u001b[0m\u001b[0;34m:\u001b[0m\u001b[0;34m\u001b[0m\u001b[0;34m\u001b[0m\u001b[0m\n",
      "\u001b[0;32m~/anaconda3/lib/python3.6/site-packages/pandas/core/internals/construction.py\u001b[0m in \u001b[0;36msanitize_index\u001b[0;34m(data, index, copy)\u001b[0m\n\u001b[1;32m    517\u001b[0m \u001b[0;34m\u001b[0m\u001b[0m\n\u001b[1;32m    518\u001b[0m     \u001b[0;32mif\u001b[0m \u001b[0mlen\u001b[0m\u001b[0;34m(\u001b[0m\u001b[0mdata\u001b[0m\u001b[0;34m)\u001b[0m \u001b[0;34m!=\u001b[0m \u001b[0mlen\u001b[0m\u001b[0;34m(\u001b[0m\u001b[0mindex\u001b[0m\u001b[0;34m)\u001b[0m\u001b[0;34m:\u001b[0m\u001b[0;34m\u001b[0m\u001b[0;34m\u001b[0m\u001b[0m\n\u001b[0;32m--> 519\u001b[0;31m         \u001b[0;32mraise\u001b[0m \u001b[0mValueError\u001b[0m\u001b[0;34m(\u001b[0m\u001b[0;34m'Length of values does not match length of index'\u001b[0m\u001b[0;34m)\u001b[0m\u001b[0;34m\u001b[0m\u001b[0;34m\u001b[0m\u001b[0m\n\u001b[0m\u001b[1;32m    520\u001b[0m \u001b[0;34m\u001b[0m\u001b[0m\n\u001b[1;32m    521\u001b[0m     \u001b[0;32mif\u001b[0m \u001b[0misinstance\u001b[0m\u001b[0;34m(\u001b[0m\u001b[0mdata\u001b[0m\u001b[0;34m,\u001b[0m \u001b[0mABCIndexClass\u001b[0m\u001b[0;34m)\u001b[0m \u001b[0;32mand\u001b[0m \u001b[0;32mnot\u001b[0m \u001b[0mcopy\u001b[0m\u001b[0;34m:\u001b[0m\u001b[0;34m\u001b[0m\u001b[0;34m\u001b[0m\u001b[0m\n",
      "\u001b[0;31mValueError\u001b[0m: Length of values does not match length of index"
     ]
    }
   ],
   "source": [
    "colnames = ['Genre','ID','popularity','is_exp','name','danceability','energy','key','loudness',\n",
    "'mode','speechiness','acousticness','instrumentalness','liveness','valence','tempo','time_signature']\n",
    "\n",
    "data = pandas.read_csv('final.csv')\n",
    "colnames = list(data) \n",
    "\n",
    "df = pandas.read_csv(\"final.csv\")\n",
    "all_lyrics = []\n",
    "count = 0\n",
    "for x,y in zip(list(data['Artist'])[:10],list(data['Name'])[:10]):\n",
    "    all_lyrics.append(get_lyrics(x,y))\n",
    "    print(count)\n",
    "    count += 1\n",
    "\n",
    "all_lyrics\n",
    "df.to_csv('final.csv')"
   ]
  },
  {
   "cell_type": "code",
   "execution_count": 6,
   "metadata": {},
   "outputs": [
    {
     "data": {
      "text/plain": [
       "['Her day starts with a coffee<br/>\\nAnd ends with a wine<br/>\\nTakes forever getting ready<br/>\\nShe\\'s never on time for anything<br/>\\n<br/>\\nShe gets that come get me<br/>\\nLook in her eyes<br/>\\nWell, it kinda scares me<br/>\\nThe way that she drives me wild<br/>\\nShe drives me wild<br/>\\n<br/>\\nBeautiful crazy<br/>\\nShe can\\'t help but amaze me<br/>\\nThe way that she dances<br/>\\nAin\\'t afraid to take chances<br/>\\nAnd wears her heart on her sleeve<br/>\\nYeah, she\\'s crazy<br/>\\nBut her crazy\\'s beautiful to me<br/>\\n<br/>\\nShe makes plans for the weekend<br/>\\nCan\\'t wait to go out<br/>\\n\\'Till she changes her mind<br/>\\nSays \"let\\'s stay on the couch and watch TV\"<br/>\\nAnd she falls asleep<br/>\\n<br/>\\nBeautiful crazy<br/>\\nShe can\\'t help but amaze me<br/>\\nThe way that she dances<br/>\\nAin\\'t afraid to take chances<br/>\\nAnd wears her heart on her sleeve<br/>\\nYeah, she\\'s crazy<br/>\\nBut her crazy\\'s beautiful to me<br/>\\n<br/>\\nShe\\'s unpredictable, unforgettable<br/>\\nIt\\'s unusual, unbelievable<br/>\\nHow I\\'m such a fool<br/>\\nYeah, I\\'m such a fool for her<br/>\\n<br/>\\nBeautiful crazy<br/>\\nShe can\\'t help but amaze me<br/>\\nThe way that she dances<br/>\\nAin\\'t afraid to take chances<br/>\\nAnd wears her heart on her sleeve<br/>\\nYeah, she\\'s crazy<br/>\\nShe\\'s crazy<br/>\\nYeah, she\\'s crazy<br/>\\nBut her crazy\\'s beautiful to me<br/>\\nHer crazy\\'s beautiful to me\\n\\n<br/><br/>',\n",
       " \"It ain't New York City<br/>\\nAnd it ain't L.A.<br/>\\nWe ain't got no rooftop bars<br/>\\nLike they do on Broadway<br/>\\n<br/>\\nIt's just a little town square middle of nowhere<br/>\\nAin't even big enough to be a map dot<br/>\\nWe ain't got a lot but we sure do a lot<br/>\\nWith the little bit that we got<br/>\\n<br/>\\nWe got a little something, something we can throw on ice<br/>\\nFind us somewhere that we can drink it while the moon's up high<br/>\\nWith your girl and your boys by the fire making noise<br/>\\nIn a field on a Friday night<br/>\\nWe got some George Strait songs that we turn up loud<br/>\\nLiving it up til the sun comes back around<br/>\\nWho said there's nothing to do, who said there's nothing to do<br/>\\nWho said there's nothing to do in this nothing to do town<br/>\\n<br/>\\nYeah our way of living, no it ain't complicated<br/>\\nDon't knock it til you try it, yeah you might not hate it<br/>\\nAround here we work and we play, cuss and we pray<br/>\\nAnd at the end of a long hard day<br/>\\n<br/>\\nWe got a little something, something we can throw on ice<br/>\\nFind us somewhere that we can drink it while the moon's up high<br/>\\nWith your girl and your boys by the fire making noise<br/>\\nIn a field on a Friday night<br/>\\nWe got some Brooks and Dunn songs that we turn up loud<br/>\\nLiving it up til the sun comes back around<br/>\\nWho said there's nothing to do, who said there's nothing to do<br/>\\nWho said there's nothing to do in this nothing to do town<br/>\\n<br/>\\nIt's just a little town square middle of nowhere<br/>\\nAin't even big enough to be a map dot<br/>\\nWe ain't got a lot but we sure do a lot<br/>\\nWith the little bit that we got<br/>\\n<br/>\\nWe got a little something, something we can throw on ice<br/>\\nFind us somewhere that we can drink it while the moon's up high<br/>\\nWith your girl and your boys by the fire making noise<br/>\\nIn a field on a Friday night<br/>\\nWe got some Tim McGraw songs that we turn up loud<br/>\\nLiving it up til the sun comes back around<br/>\\nWho said there's nothing to do, who said there's nothing to do<br/>\\nWho said there's nothing to do in this nothing to do town<br/>\\nIn this nothing to do town\\n\\n<br/><br/>\",\n",
       " 'This truck needs a half tank<br/>\\nThese wheels need a two lane<br/>\\nThis radio needs three songs to play<br/>\\nTo get me \\'cross town to you<br/>\\n<br/>\\nThat dress needs a slip-off<br/>\\nThat hair needs to come down<br/>\\nFriday nights need to do<br/>\\nWhat Friday nights need to do<br/>\\nThat\\'s the truth<br/>\\n<br/>\\nYeah birds need bees and ice needs whiskey<br/>\\nBoys like me need girls like you to kiss me<br/>\\nFishin\\' in the dark needs nitty gritty<br/>\\nUnder that pale moon<br/>\\n<br/>\\nSweet tea needs that sugar stirrin\\'<br/>\\nsmall town nights need both ends burnin\\'<br/>\\nShades need drawn, hearts need fallin\\'<br/>\\nBoots need knockin\\', knockin\\' boots<br/>\\n<br/>\\nKnockin\\' boots, me and you, oh<br/>\\n<br/>\\nLong weeks need a weekend<br/>\\nCheap drinks need a slingin\\'<br/>\\nThat dance floor needs some me on you<br/>\\nAnd you want me tonight<br/>\\n<br/>\\nSing-alongs need to be sung<br/>\\nTip bells need to be rung<br/>\\nLast calls need to call that cab<br/>\\nAnd back seats need \"I want you so bad\"<br/>\\n<br/>\\nYeah birds need bees and ice needs whiskey<br/>\\nBoys like me need girls like you to kiss me<br/>\\nFishin\\' in the dark needs nitty gritty<br/>\\nUnder that pale moon<br/>\\n<br/>\\nSweet tea needs that sugar stirrin\\'<br/>\\nsmall town nights need both ends burnin\\'<br/>\\nShades need drawn, hearts need fallin\\'<br/>\\nBoots need knockin\\', knockin\\' boots<br/>\\n<br/>\\nKnockin boots, girl, me and you<br/>\\n<br/>\\nDoors need shuttin\\'<br/>\\nLights need cuttin\\'<br/>\\nLips need lockin\\'<br/>\\nBoots need knockin\\'<br/>\\n<br/>\\nAnd birds need bees and ice needs whiskey<br/>\\nBoys like me need girls like you to kiss me<br/>\\nFishin\\' in the dark needs nitty gritty<br/>\\nUnder that pale moon<br/>\\n<br/>\\nSweet tea needs that sugar stirrin\\'<br/>\\nsmall town nights need both ends burnin\\'<br/>\\nShades need drawn, hearts need fallin\\'<br/>\\nBoots need knockin\\', knockin\\' boots<br/>\\n<br/>\\nKnockin\\' boots, me and you<br/>\\nOh, knockin\\' boots\\n\\n<br/><br/>',\n",
       " 'Exception occurred \\nHTTP Error 404: Not Found',\n",
       " \"I know it's a drag, I know it's a grind<br/>\\nI know that a dollar ain't worth a dime<br/>\\nJust trying to keep up with the Joneses at the end of the block<br/>\\nI know you get tired, I know you get down<br/>\\nI know you get sick of this soul sucking town<br/>\\nLet's make a little lemonade if lemons is all we got<br/>\\n<br/>\\n'Cause I'm stuck on you, you're stuck on me<br/>\\nI never gotta wonder where my honey be<br/>\\nI ain't saving all my sugar for a Saturday night<br/>\\nSeven days a week I got an appetite<br/>\\nSunsets like a tangerine, let's find a road we've never seen<br/>\\nDon't waste another mile or a minute not kissing me<br/>\\nLife is short, make it sweet<br/>\\n<br/>\\nOpen sky, glimpse of heaven, take the top off the CJ-7<br/>\\nLet that surfside Santa Ana wind mess up your hair<br/>\\nAnd let that windshield frame the ocean<br/>\\nRadio keep coast-to-coasting<br/>\\nIf we don't get where we're going baby I don't care<br/>\\nI'm already there<br/>\\n<br/>\\n'Cause I'm stuck on you, you're stuck on me<br/>\\nI never gotta wonder where my honey be<br/>\\nI ain't saving all my sugar for a Saturday night<br/>\\nSeven days a week I got an appetite<br/>\\nSunsets like a tangerine, let's find a road we've never seen<br/>\\nDon't waste another mile or a minute not kissing me<br/>\\nLife is short, make it sweet<br/>\\n<br/>\\nDays will be long but the years will fly right by<br/>\\nWe'll never be as young as we are tonight<br/>\\nBaby ain't that right, yeah<br/>\\n<br/>\\n'Cause I'm stuck on you, you're stuck on me<br/>\\nI never gotta wonder where my honey be<br/>\\nI ain't saving all my sugar for a Saturday night<br/>\\nSeven days a week I got an appetite<br/>\\nSunsets like a tangerine, let's find a road we've never seen<br/>\\nDon't waste another mile or a minute not kissing me<br/>\\nLife is short, make it sweet<br/>\\nLife is short, make it sweet<br/>\\nOh yeah\\n\\n<br/><br/>\",\n",
       " \"I got a fast car, gassed up, sitting in the drive way<br/>\\nGot a road that I know like the back of my hand<br/>\\nWe could head out right now, baby, we could fly away<br/>\\nDisappear outta here fast as we can<br/>\\n<br/>\\nOoo, I miss you, baby<br/>\\nOoo, I'm going crazy<br/>\\n<br/>\\nThere's a diamond sky that's waiting us just outside of town<br/>\\nWith the moon hanging for me and you, baby<br/>\\nWe can cut the headlights out when there ain't no one else around<br/>\\nKill the space in between, slide across that leather seat<br/>\\nHeart to heart, face to face, you know all I wanna do<br/>\\nIs get closer, closer, closer to you<br/>\\nCloser to you<br/>\\n<br/>\\nWanna taste that grey wide open freedom<br/>\\nWanna make the distance razor thin<br/>\\nWanna feel you feel me feel you breathing<br/>\\nTill we can't tell where you end and where I begin<br/>\\n<br/>\\nThere's a diamond sky that's waiting us just outside of town<br/>\\nWith the moon hanging for me and you, baby<br/>\\nWe can cut the headlights out when there ain't no one else around<br/>\\nKill the space in between, slide across that leather seat<br/>\\nHeart to heart, face to face, you know all I wanna do<br/>\\nIs get closer, closer, closer to you<br/>\\nCloser to you<br/>\\n<br/>\\nOoo, I miss you, baby<br/>\\nOoo, I'm going crazy<br/>\\n<br/>\\nThere's a diamond sky that's waiting us just outside of town<br/>\\nWith the moon hanging for me and you, baby<br/>\\nWe can cut the headlights out when there ain't no one else around<br/>\\nKill the space in between, slide across that leather seat<br/>\\nHeart to heart, face to face, you know all I wanna do<br/>\\nIs get closer, closer, closer to you<br/>\\nCloser to you<br/>\\nCloser, closer, closer to you<br/>\\nCloser to you\\n\\n<br/><br/>\",\n",
       " \"It's been a wreck me week<br/>\\nSixty plus from dawn to dusk<br/>\\nIn the red dirt heat<br/>\\nBusting it up for a couple of bucks<br/>\\nBut it ain't no thing<br/>\\nJust another day till I'm on my way<br/>\\nTo them cool, cool sheets and you and me<br/>\\n<br/>\\nWorking on the night shift, baby<br/>\\nDying for your touch like crazy<br/>\\nRacking up the overtime hours<br/>\\nLoving how we're working on the night shift, baby<br/>\\n<br/>\\nGonna rock it right<br/>\\nNo need to talk, I know what you want<br/>\\nAnd what you like<br/>\\nCause I do too, yeah<br/>\\nI love how you leave on the lights<br/>\\nNot a thing between you and me<br/>\\nAnd it feels so nice when you and I are<br/>\\n<br/>\\nWorking on the night shift, baby<br/>\\nDying for your touch like crazy<br/>\\nRacking up the overtime hours<br/>\\nLoving how we're working on the night shift, baby<br/>\\n<br/>\\nYeah, yeah<br/>\\nIt's been a wreck me week<br/>\\nOh, but who needs sleep?<br/>\\n<br/>\\nWorking on the night shift, baby<br/>\\nDying for your touch like crazy<br/>\\nRacking up the overtime hours<br/>\\nLoving how we're working on the night shift, baby<br/>\\nLoving how we're working on the night shift<br/>\\nLoving how we're working on the night shift<br/>\\nWorking on the night shift, baby\\n\\n<br/><br/>\",\n",
       " 'Exception occurred \\nHTTP Error 404: Not Found',\n",
       " \"Seventeen, you don't think that much about life<br/>\\nYou just live it<br/>\\nLike Kerosene dancing around a fire<br/>\\nBut you're in it<br/>\\n<br/>\\nSo you jump right in<br/>\\nAin't afraid to fall<br/>\\nAnd you give it all<br/>\\n<br/>\\nShe got the best of me<br/>\\nShe broke my heart<br/>\\nNow all that's left of me<br/>\\nIs beating in this guitar<br/>\\nEvery night, a different town<br/>\\nShe follows me around<br/>\\nSo you get what's left of me<br/>\\nYeah, you get what's left of me<br/>\\nCause she got the best of me<br/>\\n<br/>\\nI picked myself up off the floor<br/>\\nAnd found something new worth living for<br/>\\nIn an old dusty hand-me-down six string<br/>\\nAnd a couple chords<br/>\\n<br/>\\nI'm getting over her<br/>\\nA little more with every song<br/>\\nSo y'all sing a-long<br/>\\n<br/>\\nShe got the best of me<br/>\\nShe broke my heart<br/>\\nNow all that's left of me<br/>\\nIs beating in this guitar<br/>\\nEvery night, a different town<br/>\\nShe follows me around<br/>\\nSo you get what's left of me<br/>\\nYeah, you get what's left of me<br/>\\nCause she got the best of me<br/>\\n<br/>\\nWoah<br/>\\nShe got the best of me<br/>\\nShe broke my heart<br/>\\nNow all that's left of me<br/>\\nIs beating in this guitar<br/>\\nEvery night, a different town<br/>\\nShe follows me around<br/>\\nSo you get what's left of me<br/>\\nYeah, you get what's left of me<br/>\\nCause she got the best of me<br/>\\nCause she got the best of me<br/>\\nShe got the best of me\\n\\n<br/><br/>\",\n",
       " \"People talkin' 'bout what is and what ain't country<br/>\\nWhat gives 'em the right to wear a pair of beat-up boots?<br/>\\nIs it the size of your tires and your fires, or your wild ass buddies?<br/>\\nWell, give me a minute, let me hit you with some hometown truth<br/>\\n<br/>\\nYou could be a cowboy on the Texas plain<br/>\\nOr a plowboy waitin' on the rain<br/>\\nWe're all a little different, but we're all the same<br/>\\nEverybody doin' their own thing<br/>\\n<br/>\\nI got my dirt road cred when I was 12<br/>\\nOn a no cab tractor hauling 'em bales<br/>\\nBacking in boats, fishing limb lines<br/>\\nRunning bird dogs through the Georgia pines<br/>\\nStep side covered down in peanut dust<br/>\\nFriday night spotlighting, that was us<br/>\\nIt might not've been you, but I can't judge<br/>\\nJust be proud of what makes you country<br/>\\n<br/>\\nDoes it run in your blood?<br/>\\nDid it come from your daddy and mama?<br/>\\nWere you converted by an Alabama song on the radio?<br/>\\nIt feels so right<br/>\\nDid you lock eyes with a little green eyed girl from Jackson?<br/>\\nTell me what got ya, I just gotta know<br/>\\n<br/>\\nMe, I got my Sunday learning in a live-oak church<br/>\\nSilver Queen corn in the backyard dirt<br/>\\nWaiting for the fall to finally come along<br/>\\nSo I can grab my gun and get my outside on<br/>\\nStep side covered down in peanut dust<br/>\\nFriday night spotlighting, that was us<br/>\\nIt might not've been you, but I can't judge<br/>\\nJust be proud of what makes you country<br/>\\n<br/>\\nMight be from a city or a little farm town<br/>\\nWhatever kind of square that you drove around<br/>\\nDo you wear it on your sleeve or keep it deep down?<br/>\\nYou know you gotta let it out<br/>\\n<br/>\\nI got my dirt road cred back when I was 12<br/>\\nOn a no cab tractor haulin' 'em bales<br/>\\nBacking in boats, fishing limb lines<br/>\\nRunning bird dogs through the Georgia pines<br/>\\nStep side covered down in peanut dust<br/>\\nFriday night spotlighting, that was us<br/>\\nIt might not've been you, but I ain't judge<br/>\\nAnd just be proud of what makes you country<br/>\\nWhatever makes you country<br/>\\n<br/>\\nYou do your kinda country<br/>\\nThey doing their kind of country<br/>\\nI do my kind of country<br/>\\nWhatever makes us country\\n\\n<br/><br/>\"]"
      ]
     },
     "execution_count": 6,
     "metadata": {},
     "output_type": "execute_result"
    }
   ],
   "source": [
    "all_lyrics"
   ]
  },
  {
   "cell_type": "code",
   "execution_count": null,
   "metadata": {},
   "outputs": [],
   "source": []
  }
 ],
 "metadata": {
  "kernelspec": {
   "display_name": "Python 3",
   "language": "python",
   "name": "python3"
  },
  "language_info": {
   "codemirror_mode": {
    "name": "ipython",
    "version": 3
   },
   "file_extension": ".py",
   "mimetype": "text/x-python",
   "name": "python",
   "nbconvert_exporter": "python",
   "pygments_lexer": "ipython3",
   "version": "3.6.8"
  }
 },
 "nbformat": 4,
 "nbformat_minor": 2
}
