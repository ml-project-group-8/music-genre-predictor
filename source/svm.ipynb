{
 "cells": [
  {
   "cell_type": "code",
   "execution_count": 1,
   "metadata": {},
   "outputs": [],
   "source": [
    "import pandas as pd\n",
    "import numpy as np\n",
    "from sklearn.cluster import KMeans\n",
    "from sklearn.model_selection import train_test_split\n",
    "\n",
    "from sklearn.svm import SVC\n",
    "from sklearn.model_selection import StratifiedKFold\n",
    "from sklearn import metrics\n",
    "from sklearn.preprocessing import StandardScaler\n",
    "\n",
    "from svm_helper import *\n",
    "\n",
    "import warnings; warnings.simplefilter('ignore') "
   ]
  },
  {
   "cell_type": "code",
   "execution_count": 2,
   "metadata": {},
   "outputs": [],
   "source": [
    "x_cols = [\"Is_Exp\",\"Danceability\",\"Energy\",\"Key\",\"Loudness\",\"Mode\",\"Speechiness\",\"Acousticness\",\"Instrumentalness\",\"Liveness\",\"Valence\",\"Tempo\",\"Time_Signature\"]                                                                                           \n",
    "y_cols = [\"Genre\"]                                                                                                       \n",
    "meta_cols = [\"Id\",\"Popularity\",\"Name\",\"Artist\"] \n",
    "\n",
    "p_metrics = [\"accuracy\", \"f1_score\", \"auroc\", \"precision\", \"sensitivity\", \"specificity\"]"
   ]
  },
  {
   "cell_type": "code",
   "execution_count": 3,
   "metadata": {},
   "outputs": [],
   "source": [
    "df = pd.read_csv(\"data/lyrical_genius.csv\")\n",
    "df = df[((df[\"Genre\"] == \"classical\") | (df[\"Genre\"] ==  \"country\"))]\n",
    "\n",
    "X,y,meta = df[x_cols],df[y_cols].iloc[:,0],df[meta_cols]\n",
    "\n",
    "y_dict={\"classical\":0,\"country\":1}\n",
    "y=np.array([y_dict[x] for x in y])\n",
    "\n",
    "scaler   = StandardScaler()\n",
    "scaled_X = scaler.fit_transform(X)"
   ]
  },
  {
   "cell_type": "code",
   "execution_count": 4,
   "metadata": {},
   "outputs": [],
   "source": [
    "X_train, X_test, y_train, y_test = train_test_split(scaled_X,y, test_size=.2, stratify=y)"
   ]
  },
  {
   "cell_type": "code",
   "execution_count": 5,
   "metadata": {},
   "outputs": [],
   "source": [
    "skf = StratifiedKFold(n_splits=5, shuffle=True, random_state=np.random.randint(1234))"
   ]
  },
  {
   "cell_type": "code",
   "execution_count": null,
   "metadata": {},
   "outputs": [],
   "source": [
    "lin_best_params = select_param_linear(X_train, y_train, skf, metrics=p_metrics,plot=True)\n",
    "print(\"Best linear params: \", lin_best_params)\n"
   ]
  },
  {
   "cell_type": "code",
   "execution_count": null,
   "metadata": {},
   "outputs": [],
   "source": [
    "lin_svm = SVC(10, kernel='linear')\n",
    "lin_svm.fit(X_train, y_train)\n",
    "\n",
    "lin_performance = [performance(y_test, lin_svm.predict(X_test), metric=m, test=True) for m in p_metrics]\n",
    "\n",
    "lin_performance"
   ]
  },
  {
   "cell_type": "code",
   "execution_count": null,
   "metadata": {},
   "outputs": [],
   "source": [
    "rbf_best_params = select_param_rbf(X_train, y_train, skf, p_metrics, plot=False)\n",
    "print(\"Best rbf params: \", rbf_best_params)"
   ]
  },
  {
   "cell_type": "code",
   "execution_count": 12,
   "metadata": {},
   "outputs": [
    {
     "name": "stdout",
     "output_type": "stream",
     "text": [
      "[LibSVM]"
     ]
    },
    {
     "data": {
      "text/plain": [
       "[0.8535353535353535,\n",
       " 0.9131736526946108,\n",
       " 0.6936677631578947,\n",
       " 0.8764367816091954,\n",
       " 0.953125,\n",
       " 0.4342105263157895]"
      ]
     },
     "execution_count": 12,
     "metadata": {},
     "output_type": "execute_result"
    }
   ],
   "source": [
    "rbf_svm = SVC(100, kernel='rbf', gamma=0.005, verbose=True)\n",
    "rbf_svm.fit(X_train, y_train)\n",
    "\n",
    "rbf_performance = [performance(y_test, rbf_svm.predict(X_test), metric=m, test=True) for m in p_metrics]\n",
    "\n",
    "rbf_performance"
   ]
  },
  {
   "cell_type": "code",
   "execution_count": 6,
   "metadata": {},
   "outputs": [],
   "source": [
    "def gen_df(genre_a, genre_b, df):\n",
    "    new_df = df[((df[\"Genre\"] == genre_a) | (df[\"Genre\"] ==  genre_b))]\n",
    "    X,y,meta = new_df[x_cols],new_df[y_cols].iloc[:,0],new_df[meta_cols]\n",
    "    y_dict={genre_a:0, genre_b:1}\n",
    "    y=np.array([y_dict[x] for x in y])\n",
    "    \n",
    "    scaler = StandardScaler()\n",
    "    scaled_X = scaler.fit_transform(X)\n",
    "    \n",
    "    X_train, X_test, y_train, y_test = train_test_split(scaled_X,y, test_size=.2, stratify=y)\n",
    "    \n",
    "    return X_train, X_test, y_train, y_test"
   ]
  },
  {
   "cell_type": "code",
   "execution_count": 7,
   "metadata": {},
   "outputs": [],
   "source": [
    "df = pd.read_csv(\"data/lyrical_genius.csv\")\n",
    "genres = df[\"Genre\"].unique()\n",
    "\n",
    "# create a 2d table of best scores for each pair of genres\n",
    "lin_best_C = [[-1 for j in genres] for i in genres]\n",
    "rbf_best_CG = [[-1 for j in genres] for i in genres]\n"
   ]
  },
  {
   "cell_type": "code",
   "execution_count": 8,
   "metadata": {},
   "outputs": [
    {
     "name": "stdout",
     "output_type": "stream",
     "text": [
      "Optimizing  rnb hiphop\n",
      "Optimizing  rnb country\n",
      "Optimizing  rnb classical\n",
      "Optimizing  rnb edm_dance\n",
      "Optimizing  rnb rock\n",
      "Optimizing  rnb pop\n",
      "Optimizing  hiphop country\n",
      "Optimizing  hiphop classical\n",
      "Optimizing  hiphop edm_dance\n",
      "Optimizing  hiphop rock\n",
      "Optimizing  hiphop pop\n",
      "Optimizing  country classical\n",
      "Optimizing  country edm_dance\n",
      "Optimizing  country rock\n",
      "Optimizing  country pop\n",
      "Optimizing  classical edm_dance\n",
      "Optimizing  classical rock\n",
      "Optimizing  classical pop\n",
      "Optimizing  edm_dance rock\n",
      "Optimizing  edm_dance pop\n",
      "Optimizing  rock pop\n"
     ]
    }
   ],
   "source": [
    "for i in range(len(genres)):\n",
    "    for j in range(i+1, len(genres)):\n",
    "        print(\"Optimizing \", genres[i], genres[j])\n",
    "        X_train, X_test, y_train, y_test = gen_df(genres[i], genres[j], df)\n",
    "        lin_best_params = select_param_linear(X_train, y_train, skf, metrics=p_metrics,plot=False)\n",
    "        rbf_best_params = select_param_rbf(X_train, y_train, skf, p_metrics, plot=False)\n",
    "        \n",
    "        lin_best_C[i][j] = lin_best_params[0] # accuracy score\n",
    "        rbf_best_CG[i][j] = rbf_best_params[0]\n",
    "        "
   ]
  },
  {
   "cell_type": "code",
   "execution_count": 11,
   "metadata": {},
   "outputs": [
    {
     "name": "stdout",
     "output_type": "stream",
     "text": [
      "Counter({-1: 28, 10.0: 7, 0.01: 6, 0.1: 3, 100.0: 2, 0.001: 2, 1.0: 1})\n",
      "Counter({-1: 28, (10.0, 1.0): 2, (1.0, 1.0): 2, (100.0, 0.0017094017094017094): 1, (100.0, 0.0010214504596527069): 1, (100.0, 0.00040096230954290296): 1, (100.0, 0.0010683760683760685): 1, (100.0, 0.0017793594306049821): 1, (100.0, 0.0009587727708533077): 1, (10.0, 0.00039093041438623924): 1, (100.0, 0.001): 1, (100.0, 2.5518276189406855e-06): 1, (100.0, 0.0006234413965087282): 1, (100.0, 0.00033875338753387534): 1, (1.0, 0.0007173601147776184): 1, (1.0, 0.000980392156862745): 1, (100.0, 0.000500751126690035): 1, (0.1, 1.0): 1, (100.0, 0.0005115089514066496): 1, (100.0, 0.0006329113924050633): 1})\n"
     ]
    }
   ],
   "source": [
    "from collections import Counter\n",
    "print(Counter([i for j in lin_best_C for i in j]))\n",
    "print(Counter([i for j in rbf_best_CG for i in j]))"
   ]
  },
  {
   "cell_type": "code",
   "execution_count": null,
   "metadata": {},
   "outputs": [],
   "source": [
    "rbf_svm = SVC(1, kernel='rbf', gamma=0.4, verbose=True)\n",
    "rbf_svm.fit(X_train, y_train)"
   ]
  },
  {
   "cell_type": "code",
   "execution_count": null,
   "metadata": {},
   "outputs": [],
   "source": [
    "df = pd.read_csv(\"\")"
   ]
  },
  {
   "cell_type": "code",
   "execution_count": null,
   "metadata": {},
   "outputs": [],
   "source": []
  }
 ],
 "metadata": {
  "kernelspec": {
   "display_name": "Python 3",
   "language": "python",
   "name": "python3"
  },
  "language_info": {
   "codemirror_mode": {
    "name": "ipython",
    "version": 3
   },
   "file_extension": ".py",
   "mimetype": "text/x-python",
   "name": "python",
   "nbconvert_exporter": "python",
   "pygments_lexer": "ipython3",
   "version": "3.7.3"
  }
 },
 "nbformat": 4,
 "nbformat_minor": 2
}
