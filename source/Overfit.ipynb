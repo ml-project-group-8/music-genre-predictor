{
 "cells": [
  {
   "cell_type": "code",
   "execution_count": 18,
   "metadata": {},
   "outputs": [],
   "source": [
    "# Core imports\n",
    "import pandas as pd\n",
    "import numpy as np\n",
    "import matplotlib.pyplot as plt\n",
    "\n",
    "# from sklearn.multiclass import OneVsOneClassifier\n",
    "# Preprocessing and visualization\n",
    "from sklearn.decomposition import PCA\n",
    "from sklearn.preprocessing import StandardScaler\n",
    "\n",
    "# Metric functions\n",
    "from sklearn.metrics import classification_report, confusion_matrix \n",
    "from sklearn.metrics import accuracy_score\n",
    "\n",
    "# Models\n",
    "from sklearn.linear_model import LogisticRegressionCV\n",
    "from sklearn.neighbors    import KNeighborsClassifier\n",
    "from sklearn.dummy        import DummyClassifier\n",
    "from sklearn.tree         import DecisionTreeClassifier\n",
    "\n",
    "# Model selection\n",
    "from sklearn.model_selection import GridSearchCV\n",
    "from sklearn.model_selection import train_test_split\n",
    "\n",
    "# Ignore warnings if they happen, we don't care (that much)\n",
    "import warnings; warnings.simplefilter('ignore')\n",
    "\n",
    "# Cross-validation takes a minute, so we will save these models\n",
    "from sklearn.externals import joblib\n",
    "from sklearn.base import clone"
   ]
  },
  {
   "cell_type": "code",
   "execution_count": 2,
   "metadata": {},
   "outputs": [],
   "source": [
    "df     = pd.read_csv(\"data/lyrical_genius.csv\")\n",
    "\n",
    "# Remove pop songs, they are all over the place and hurt classification\n",
    "df = df[(df[\"Genre\"] != \"pop\")]\n",
    "\n",
    "# Remove some irrelevant columns\n",
    "df = df.drop(columns=\"Unnamed: 0\")\n",
    "df = df.drop(columns=\"Unnamed: 0.1\")\n",
    "\n",
    "# We go ahead and remove ALL duplicates\n",
    "df = df.drop_duplicates(subset=[\"Name\",\"Artist\"],keep=False)\n",
    "\n",
    "# Give each genre a new cool color\n",
    "genres = df[\"Genre\"].unique()\n",
    "unique_colors = [\n",
    "    '#e6194b', '#3cb44b', '#ffe119', '#4363d8', '#f58231', '#911eb4', '#46f0f0', '#f032e6', '#bcf60c', '#fabebe', '#008080', '#e6beff', '#9a6324', '#fffac8', '#800000', '#aaffc3', '#808000', '#ffd8b1', '#000075', '#808080'\n",
    "]\n",
    "colors = {}\n",
    "i = 0\n",
    "for genre in genres:\n",
    "    colors[genre] = unique_colors[i]\n",
    "    i+=1\n",
    "\n",
    "\n",
    "# Upsample the amount of occurances of values that don't appear very often\n",
    "# df = df.append(df[((df[\"Genre\"] != \"country\") & (df[\"Genre\"] != \"edm_dance\"))])\n",
    "# extras    = df.copy()\n",
    "# counts    = df[\"Genre\"].value_counts()\n",
    "# max_count = max(df[\"Genre\"].value_counts())\n",
    "# for genre in genres:\n",
    "#     needed = max_count - counts[genre]\n",
    "#     extras = extras.append(df[df[\"Genre\"]==genre].sample(n=needed,replace=True))\n",
    "# df = extras\n",
    "counts    = df[\"Genre\"].value_counts()\n",
    "colors_list = [colors[genre] for genre in genres]"
   ]
  },
  {
   "cell_type": "code",
   "execution_count": 3,
   "metadata": {},
   "outputs": [],
   "source": [
    "# Split data into data frames of the right type\n",
    "x_cols    = [\"Is_Exp\",\"Danceability\",\"Energy\",\"Key\",\"Loudness\",\"Mode\",\"Speechiness\",\"Acousticness\",\"Instrumentalness\",\"Liveness\",\"Valence\",\"Tempo\",\"Time_Signature\"]\n",
    "y_cols    = [\"Genre\"]\n",
    "meta_cols = [\"Id\",\"Popularity\",\"Name\",\"Artist\"]\n",
    "\n",
    "X,y,meta = df[x_cols],df[y_cols].iloc[:,0],df[meta_cols]\n",
    "\n",
    "# Split \n",
    "X_trainP, X_testP, y_train, y_test = train_test_split(X,y, test_size=.2, random_state=1234, stratify=y)\n",
    "\n",
    "extras    = X_trainP.copy()\n",
    "counts    = y_train.value_counts()\n",
    "max_count = max(counts)\n",
    "extra_y   = pd.Series()\n",
    "for genre in genres:\n",
    "    needed = max_count - counts[genre]\n",
    "    for i in range(needed):\n",
    "        extra_y = extra_y.append(pd.Series([genre]))\n",
    "    extras = extras.append(X_trainP[y_train==genre].sample(n=needed,replace=True))\n",
    "X_trainP = extras\n",
    "y_train = y_train.append(extra_y)"
   ]
  },
  {
   "cell_type": "code",
   "execution_count": 4,
   "metadata": {},
   "outputs": [
    {
     "data": {
      "text/plain": [
       "(13398, 13)"
      ]
     },
     "execution_count": 4,
     "metadata": {},
     "output_type": "execute_result"
    }
   ],
   "source": [
    "X_trainP.shape"
   ]
  },
  {
   "cell_type": "code",
   "execution_count": 5,
   "metadata": {},
   "outputs": [],
   "source": [
    "# Scale the data and fit run 2D PCA on it\n",
    "scaler   = StandardScaler()\n",
    "scaler.fit(X_trainP)\n",
    "X_train = scaler.transform(X_trainP)\n",
    "X_test  = scaler.transform(X_testP)"
   ]
  },
  {
   "cell_type": "code",
   "execution_count": 6,
   "metadata": {},
   "outputs": [
    {
     "data": {
      "text/plain": [
       "(13398, 13)"
      ]
     },
     "execution_count": 6,
     "metadata": {},
     "output_type": "execute_result"
    }
   ],
   "source": [
    "X_train.shape"
   ]
  },
  {
   "cell_type": "code",
   "execution_count": 7,
   "metadata": {},
   "outputs": [
    {
     "name": "stdout",
     "output_type": "stream",
     "text": [
      "LogisticRegressionCV(Cs=10, class_weight=None, cv=5, dual=False,\n",
      "           fit_intercept=True, intercept_scaling=1.0, max_iter=100,\n",
      "           multi_class='multinomial', n_jobs=None, penalty='l2',\n",
      "           random_state=1234, refit=True, scoring=None, solver='lbfgs',\n",
      "           tol=0.0001, verbose=0)\n",
      "Training Accuracy: 0.7106284520077624\n",
      "Testing  Accuracy: 0.8060230292294066\n",
      "['rnb' 'hiphop' 'country' 'classical' 'edm_dance' 'rock']\n",
      "[[ 31  16   9   0   5   4]\n",
      " [ 17  57   3   0   4   0]\n",
      " [ 19   1 126   2   2  30]\n",
      " [  2   1  13 531   9   3]\n",
      " [  9   6  16   1 115  22]\n",
      " [  4   1  11   0   9  50]]\n",
      "              precision    recall  f1-score   support\n",
      "\n",
      "   classical       0.99      0.95      0.97       559\n",
      "     country       0.71      0.70      0.70       180\n",
      "   edm_dance       0.80      0.68      0.73       169\n",
      "      hiphop       0.70      0.70      0.70        81\n",
      "         rnb       0.38      0.48      0.42        65\n",
      "        rock       0.46      0.67      0.54        75\n",
      "\n",
      "   micro avg       0.81      0.81      0.81      1129\n",
      "   macro avg       0.67      0.70      0.68      1129\n",
      "weighted avg       0.83      0.81      0.81      1129\n",
      "\n"
     ]
    }
   ],
   "source": [
    "clf = LogisticRegressionCV(cv=5, random_state=1234, multi_class=\"multinomial\")\n",
    "clf.fit(X_train,y_train)\n",
    "\n",
    "print(clf)\n",
    "\n",
    "joblib.dump(clf, \"logistic.pkl\")\n",
    "y_pred = clf.predict(X_test)\n",
    "training = clf.score(X_train, y_train)\n",
    "testing  = clf.score(X_test,  y_test)\n",
    "print(\"Training Accuracy: {}\".format(training))\n",
    "print(\"Testing  Accuracy: {}\".format(testing))\n",
    "print(genres)\n",
    "print(confusion_matrix(y_test,y_pred,labels=genres))\n",
    "print(classification_report(y_test, y_pred)) "
   ]
  },
  {
   "cell_type": "code",
   "execution_count": 8,
   "metadata": {},
   "outputs": [
    {
     "name": "stdout",
     "output_type": "stream",
     "text": [
      "classical\n",
      "(-0.008426993946581331, 'Liveness')\n",
      "(-0.071311778302171, 'Mode')\n",
      "(-0.09378144174400618, 'Tempo')\n",
      "(0.16287595586454218, 'Speechiness')\n",
      "(-0.20374502303073222, 'Time_Signature')\n",
      "(-0.2206160698912292, 'Key')\n",
      "(0.22806482020200153, 'Valence')\n",
      "(0.4919374818803662, 'Energy')\n",
      "(-0.6237077529107955, 'Is_Exp')\n",
      "(1.116571110938684, 'Acousticness')\n",
      "(1.3751385456595588, 'Instrumentalness')\n",
      "(-1.48711793120067, 'Danceability')\n",
      "(-2.5556691433679104, 'Loudness')\n",
      "country\n",
      "(0.02136484181347592, 'Liveness')\n",
      "(-0.10115744919432847, 'Time_Signature')\n",
      "(0.11877701156431579, 'Tempo')\n",
      "(0.18022176830652686, 'Key')\n",
      "(0.24615050783484105, 'Acousticness')\n",
      "(0.44466554363828537, 'Loudness')\n",
      "(-0.5428124415337515, 'Instrumentalness')\n",
      "(-0.6654690386358262, 'Danceability')\n",
      "(-0.6777020641823934, 'Energy')\n",
      "(0.7312489277590659, 'Mode')\n",
      "(-0.8709611160786486, 'Speechiness')\n",
      "(0.9458740622801458, 'Valence')\n",
      "(-1.0123276879380672, 'Is_Exp')\n",
      "edm_dance\n",
      "(-0.0017789150842387677, 'Speechiness')\n",
      "(0.005142525859032556, 'Time_Signature')\n",
      "(-0.083030108647647, 'Key')\n",
      "(0.0893316517673804, 'Acousticness')\n",
      "(0.09443692376412383, 'Liveness')\n",
      "(-0.20064428740470633, 'Mode')\n",
      "(0.30219861875796106, 'Tempo')\n",
      "(-0.4491666566870499, 'Is_Exp')\n",
      "(0.8245776382348932, 'Energy')\n",
      "(0.9122748160432385, 'Loudness')\n",
      "(0.9224350548199777, 'Danceability')\n",
      "(-1.0542328887383074, 'Valence')\n",
      "(1.5286005105227185, 'Instrumentalness')\n",
      "hiphop\n",
      "(-0.0878360161537715, 'Liveness')\n",
      "(0.09620269286808852, 'Key')\n",
      "(0.19247371336357752, 'Loudness')\n",
      "(0.1972867189353791, 'Time_Signature')\n",
      "(0.22263054022581838, 'Energy')\n",
      "(-0.26448624570242246, 'Valence')\n",
      "(-0.29915965819489915, 'Tempo')\n",
      "(-0.34948746925146423, 'Acousticness')\n",
      "(-0.35822958784319403, 'Mode')\n",
      "(1.235008415501689, 'Speechiness')\n",
      "(1.310167708517163, 'Is_Exp')\n",
      "(1.9979096388114568, 'Danceability')\n",
      "(-2.435313811030576, 'Instrumentalness')\n",
      "rnb\n",
      "(-0.005325632726025809, 'Valence')\n",
      "(-0.008637266574901974, 'Key')\n",
      "(0.09161989521408528, 'Instrumentalness')\n",
      "(-0.09956974149386003, 'Liveness')\n",
      "(0.15186627390518542, 'Time_Signature')\n",
      "(-0.1758504357166258, 'Tempo')\n",
      "(-0.1906547477321108, 'Mode')\n",
      "(-0.35404833126947727, 'Acousticness')\n",
      "(0.4170679905713141, 'Speechiness')\n",
      "(0.6448152632048966, 'Is_Exp')\n",
      "(0.6547719258823795, 'Danceability')\n",
      "(0.7022676637504067, 'Loudness')\n",
      "(-1.1697654451561568, 'Energy')\n",
      "rock\n",
      "(-0.017232698832085273, 'Instrumentalness')\n",
      "(0.03585898393915452, 'Key')\n",
      "(-0.049393046474523486, 'Time_Signature')\n",
      "(0.08003098601660462, 'Liveness')\n",
      "(0.08959147352311975, 'Mode')\n",
      "(0.13021912581383127, 'Is_Exp')\n",
      "(0.14781590533324537, 'Tempo')\n",
      "(0.15010588468463204, 'Valence')\n",
      "(0.30398740657238377, 'Loudness')\n",
      "(0.308321848997462, 'Energy')\n",
      "(-0.7485174700199556, 'Acousticness')\n",
      "(-0.9422123307746547, 'Speechiness')\n",
      "(-1.4225296496773223, 'Danceability')\n"
     ]
    }
   ],
   "source": [
    "for i in range(len(clf.classes_)):\n",
    "    print(clf.classes_[i])\n",
    "    todos      = [(clf.coef_[i][j],list(X)[j]) for j in range(len(list(X)))]\n",
    "    todos.sort(key=lambda x: abs(x[0]))\n",
    "    for i in range(len(todos)):\n",
    "        print(todos[i])"
   ]
  },
  {
   "cell_type": "code",
   "execution_count": 9,
   "metadata": {},
   "outputs": [],
   "source": [
    "def best_classifier(X, y, t_clf, params,scores=[\"accuracy\"]) :\n",
    "    \"\"\"\n",
    "    Sweeps different settings for the hyperparameters of a Decision Tree classifier,\n",
    "    calculating the k-fold CV performance for each setting and metric,\n",
    "    then selects the hyperparameters that maximize the average performance for each metric.\n",
    "    \"\"\"\n",
    "    best_parms = []\n",
    "    \n",
    "    for score in scores:\n",
    "        base_clf = clone(t_clf)\n",
    "        print(\"Scoring for {}\".format(score))\n",
    "        clf   = GridSearchCV(base_clf, params, cv=5,scoring=score)\n",
    "        \n",
    "        clf.fit(X,y)\n",
    "        print(\"Done fitting\")\n",
    "        \n",
    "        mts   = clf.cv_results_[\"mean_test_score\"]\n",
    "        parms = clf.cv_results_[\"params\"]\n",
    "        \n",
    "        for mt, parm in zip(mts,parms):\n",
    "            print(\"Score: {:.4f}; Parameters {}\".format(mt, parm))\n",
    "        \n",
    "        best_parms.append(clf.best_estimator_)\n",
    "    return best_parms"
   ]
  },
  {
   "cell_type": "code",
   "execution_count": 30,
   "metadata": {},
   "outputs": [
    {
     "name": "stdout",
     "output_type": "stream",
     "text": [
      "KNeighborsClassifier(algorithm='auto', leaf_size=30, metric='minkowski',\n",
      "           metric_params=None, n_jobs=None, n_neighbors=11, p=2,\n",
      "           weights='uniform')\n",
      "Training Accuracy: 0.8984176742797433\n",
      "Testing  Accuracy: 0.7537643932683791\n",
      "[[ 27  19   8   0   6   5]\n",
      " [ 23  48   4   0   3   3]\n",
      " [ 17   4 114   3  12  30]\n",
      " [  3   1  13 522  12   8]\n",
      " [ 20   6  20   1 106  16]\n",
      " [ 11   4  18   0   8  34]]\n",
      "              precision    recall  f1-score   support\n",
      "\n",
      "   classical       0.99      0.93      0.96       559\n",
      "     country       0.64      0.63      0.64       180\n",
      "   edm_dance       0.72      0.63      0.67       169\n",
      "      hiphop       0.59      0.59      0.59        81\n",
      "         rnb       0.27      0.42      0.33        65\n",
      "        rock       0.35      0.45      0.40        75\n",
      "\n",
      "   micro avg       0.75      0.75      0.75      1129\n",
      "   macro avg       0.59      0.61      0.60      1129\n",
      "weighted avg       0.78      0.75      0.77      1129\n",
      "\n"
     ]
    }
   ],
   "source": [
    "weights = [\"uniform\"]\n",
    "params  = {\n",
    "    \"n_neighbors\": range(5,22,2)\n",
    "}\n",
    "knn = KNeighborsClassifier()\n",
    "# clf = best_classifier(X_train,y_train,knn,params)[0]\n",
    "\n",
    "print(clf)\n",
    "clf = KNeighborsClassifier(n_neighbors=11)\n",
    "clf.fit(X_train, y_train)\n",
    "\n",
    "joblib.dump(clf, \"knn.pkl\")\n",
    "\n",
    "y_pred = clf.predict(X_test)\n",
    "training = clf.score(X_train, y_train)\n",
    "testing  = clf.score(X_test,  y_test)\n",
    "print(\"Training Accuracy: {}\".format(training))\n",
    "print(\"Testing  Accuracy: {}\".format(testing))\n",
    "print(confusion_matrix(y_test,y_pred,labels=genres))\n",
    "print(classification_report(y_test, y_pred)) "
   ]
  },
  {
   "cell_type": "code",
   "execution_count": 31,
   "metadata": {},
   "outputs": [
    {
     "name": "stdout",
     "output_type": "stream",
     "text": [
      "DecisionTreeClassifier(class_weight=None, criterion='entropy', max_depth=9,\n",
      "            max_features=None, max_leaf_nodes=None,\n",
      "            min_impurity_decrease=0.0, min_impurity_split=None,\n",
      "            min_samples_leaf=4, min_samples_split=2,\n",
      "            min_weight_fraction_leaf=0.0, presort=False, random_state=None,\n",
      "            splitter='best')\n",
      "Training Accuracy: 0.809896999552172\n",
      "Testing  Accuracy: 0.7936226749335695\n",
      "[[ 35  20   4   0   2   4]\n",
      " [ 17  58   1   0   4   1]\n",
      " [ 29   6 123   4   5  13]\n",
      " [  7   2  11 528  10   1]\n",
      " [ 18   5  20   1 108  17]\n",
      " [ 11   4  10   0   6  44]]\n",
      "              precision    recall  f1-score   support\n",
      "\n",
      "   classical       0.99      0.94      0.97       559\n",
      "     country       0.73      0.68      0.70       180\n",
      "   edm_dance       0.80      0.64      0.71       169\n",
      "      hiphop       0.61      0.72      0.66        81\n",
      "         rnb       0.30      0.54      0.38        65\n",
      "        rock       0.55      0.59      0.57        75\n",
      "\n",
      "   micro avg       0.79      0.79      0.79      1129\n",
      "   macro avg       0.66      0.68      0.67      1129\n",
      "weighted avg       0.82      0.79      0.80      1129\n",
      "\n"
     ]
    }
   ],
   "source": [
    "params = {\n",
    "    \"max_depth\": range(5,12),\n",
    "    \"min_samples_leaf\": range(1,10),\n",
    "    \"criterion\": [\"entropy\"]\n",
    "}\n",
    "t = DecisionTreeClassifier()\n",
    "\n",
    "# DTree = best_classifier(X_train, y_train, t, params, scores=[\"accuracy\"])[0]\n",
    "\n",
    "print(DTree)\n",
    "DTree = DecisionTreeClassifier(max_depth=9, min_samples_leaf=4, criterion=\"entropy\")\n",
    "DTree.fit(X_train, y_train)\n",
    "\n",
    "joblib.dump(DTree, \"dtree.pkl\")\n",
    "\n",
    "# predict genres of test data\n",
    "accuracy = DTree.score(X_test,y_test)\n",
    "y_pred = DTree.predict(X_test)\n",
    "training = DTree.score(X_train, y_train)\n",
    "testing  = DTree.score(X_test,  y_test)\n",
    "print(\"Training Accuracy: {}\".format(training))\n",
    "print(\"Testing  Accuracy: {}\".format(testing))\n",
    "print(confusion_matrix(y_test,y_pred,labels=genres))\n",
    "print(classification_report(y_test, y_pred))"
   ]
  },
  {
   "cell_type": "code",
   "execution_count": 32,
   "metadata": {},
   "outputs": [],
   "source": [
    "importance = DTree.feature_importances_\n",
    "d_feats      = list(X)\n",
    "todos      = [(importance[i],d_feats[i]) for i in range(len(d_feats))]\n",
    "todos.sort(key=lambda x: x[0],reverse=True)"
   ]
  },
  {
   "cell_type": "code",
   "execution_count": 33,
   "metadata": {},
   "outputs": [
    {
     "data": {
      "text/plain": [
       "[(0.27499970018210484, 'Loudness'),\n",
       " (0.1277064376002267, 'Instrumentalness'),\n",
       " (0.12529005304112933, 'Is_Exp'),\n",
       " (0.12165234809841831, 'Speechiness'),\n",
       " (0.1104761043183542, 'Danceability'),\n",
       " (0.09010941094087152, 'Acousticness'),\n",
       " (0.05133060154311118, 'Energy'),\n",
       " (0.03833493054448468, 'Valence'),\n",
       " (0.03141099933177038, 'Tempo'),\n",
       " (0.013126277581783188, 'Liveness'),\n",
       " (0.012657578977465072, 'Mode'),\n",
       " (0.0024512882243385805, 'Key'),\n",
       " (0.00045426961594193676, 'Time_Signature')]"
      ]
     },
     "execution_count": 33,
     "metadata": {},
     "output_type": "execute_result"
    }
   ],
   "source": [
    "todos"
   ]
  },
  {
   "cell_type": "code",
   "execution_count": 34,
   "metadata": {},
   "outputs": [
    {
     "name": "stdout",
     "output_type": "stream",
     "text": [
      "Dummy classifier accuracy is\n",
      "0.17803365810451727\n"
     ]
    }
   ],
   "source": [
    "# compare to stratified dummy classifier\n",
    "dummy = DummyClassifier(strategy='stratified')\n",
    "\n",
    "joblib.dump(dummy, \"dummy.pkl\")\n",
    "\n",
    "dummy.fit(X_train,y_train)\n",
    "dummy_accuracy = dummy.score(X_test,y_test)\n",
    "print( \"Dummy classifier accuracy is\" )\n",
    "print(dummy_accuracy)"
   ]
  },
  {
   "cell_type": "code",
   "execution_count": null,
   "metadata": {},
   "outputs": [],
   "source": []
  }
 ],
 "metadata": {
  "kernelspec": {
   "display_name": "Python 3",
   "language": "python",
   "name": "python3"
  },
  "language_info": {
   "codemirror_mode": {
    "name": "ipython",
    "version": 3
   },
   "file_extension": ".py",
   "mimetype": "text/x-python",
   "name": "python",
   "nbconvert_exporter": "python",
   "pygments_lexer": "ipython3",
   "version": "3.6.8"
  }
 },
 "nbformat": 4,
 "nbformat_minor": 2
}
